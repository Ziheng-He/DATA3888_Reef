{
 "cells": [
  {
   "cell_type": "code",
   "execution_count": 1,
   "id": "53794c31-d6a5-437a-9060-4ad228e0ccff",
   "metadata": {},
   "outputs": [],
   "source": [
    "import matplotlib.pyplot as plt\n",
    "import pandas as pd"
   ]
  },
  {
   "cell_type": "code",
   "execution_count": 2,
   "id": "c308a0d7-05ba-437a-aba9-8a8718a868b8",
   "metadata": {},
   "outputs": [],
   "source": [
    "X = [\"10%\", \"50%\", \"70%\", \"100%\"]"
   ]
  },
  {
   "cell_type": "code",
   "execution_count": 3,
   "id": "026e1222-6ae5-41ff-b395-1aac5fd1cf66",
   "metadata": {},
   "outputs": [],
   "source": [
    "data = pd.read_excel(\"./Times.xlsx\")"
   ]
  },
  {
   "cell_type": "code",
   "execution_count": 4,
   "id": "ab4b8096-bdb3-43b3-bce2-b03aef258176",
   "metadata": {},
   "outputs": [
    {
     "data": {
      "text/html": [
       "<div>\n",
       "<style scoped>\n",
       "    .dataframe tbody tr th:only-of-type {\n",
       "        vertical-align: middle;\n",
       "    }\n",
       "\n",
       "    .dataframe tbody tr th {\n",
       "        vertical-align: top;\n",
       "    }\n",
       "\n",
       "    .dataframe thead th {\n",
       "        text-align: right;\n",
       "    }\n",
       "</style>\n",
       "<table border=\"1\" class=\"dataframe\">\n",
       "  <thead>\n",
       "    <tr style=\"text-align: right;\">\n",
       "      <th></th>\n",
       "      <th>Unnamed: 0</th>\n",
       "      <th>Unnamed: 1</th>\n",
       "      <th>Unnamed: 2</th>\n",
       "    </tr>\n",
       "  </thead>\n",
       "  <tbody>\n",
       "    <tr>\n",
       "      <th>0</th>\n",
       "      <td>RF</td>\n",
       "      <td>0.1</td>\n",
       "      <td>0.007006</td>\n",
       "    </tr>\n",
       "    <tr>\n",
       "      <th>1</th>\n",
       "      <td>RF</td>\n",
       "      <td>0.5</td>\n",
       "      <td>0.012011</td>\n",
       "    </tr>\n",
       "    <tr>\n",
       "      <th>2</th>\n",
       "      <td>RF</td>\n",
       "      <td>0.7</td>\n",
       "      <td>0.014012</td>\n",
       "    </tr>\n",
       "    <tr>\n",
       "      <th>3</th>\n",
       "      <td>RF</td>\n",
       "      <td>1.0</td>\n",
       "      <td>0.005004</td>\n",
       "    </tr>\n",
       "    <tr>\n",
       "      <th>4</th>\n",
       "      <td>SVM</td>\n",
       "      <td>0.1</td>\n",
       "      <td>0.000969</td>\n",
       "    </tr>\n",
       "    <tr>\n",
       "      <th>5</th>\n",
       "      <td>SVM</td>\n",
       "      <td>0.5</td>\n",
       "      <td>0.003990</td>\n",
       "    </tr>\n",
       "    <tr>\n",
       "      <th>6</th>\n",
       "      <td>SVM</td>\n",
       "      <td>0.7</td>\n",
       "      <td>0.002956</td>\n",
       "    </tr>\n",
       "    <tr>\n",
       "      <th>7</th>\n",
       "      <td>SVM</td>\n",
       "      <td>1.0</td>\n",
       "      <td>0.001993</td>\n",
       "    </tr>\n",
       "    <tr>\n",
       "      <th>8</th>\n",
       "      <td>LR</td>\n",
       "      <td>0.1</td>\n",
       "      <td>0.004002</td>\n",
       "    </tr>\n",
       "    <tr>\n",
       "      <th>9</th>\n",
       "      <td>LR</td>\n",
       "      <td>0.5</td>\n",
       "      <td>0.003001</td>\n",
       "    </tr>\n",
       "    <tr>\n",
       "      <th>10</th>\n",
       "      <td>LR</td>\n",
       "      <td>0.7</td>\n",
       "      <td>0.003001</td>\n",
       "    </tr>\n",
       "    <tr>\n",
       "      <th>11</th>\n",
       "      <td>LR</td>\n",
       "      <td>1.0</td>\n",
       "      <td>0.003001</td>\n",
       "    </tr>\n",
       "  </tbody>\n",
       "</table>\n",
       "</div>"
      ],
      "text/plain": [
       "   Unnamed: 0  Unnamed: 1  Unnamed: 2\n",
       "0          RF         0.1    0.007006\n",
       "1          RF         0.5    0.012011\n",
       "2          RF         0.7    0.014012\n",
       "3          RF         1.0    0.005004\n",
       "4         SVM         0.1    0.000969\n",
       "5         SVM         0.5    0.003990\n",
       "6         SVM         0.7    0.002956\n",
       "7         SVM         1.0    0.001993\n",
       "8          LR         0.1    0.004002\n",
       "9          LR         0.5    0.003001\n",
       "10         LR         0.7    0.003001\n",
       "11         LR         1.0    0.003001"
      ]
     },
     "execution_count": 4,
     "metadata": {},
     "output_type": "execute_result"
    }
   ],
   "source": [
    "data"
   ]
  },
  {
   "cell_type": "code",
   "execution_count": 5,
   "id": "681cd4a3-61ba-49e6-b878-55968e4fc821",
   "metadata": {},
   "outputs": [],
   "source": [
    "rf = data[\"Unnamed: 2\"].iloc[:4]\n",
    "svm = data[\"Unnamed: 2\"].iloc[4:8]\n",
    "lm = data[\"Unnamed: 2\"].iloc[8:]"
   ]
  },
  {
   "cell_type": "code",
   "execution_count": 6,
   "id": "bdee8184-bedb-4f4f-8516-d2f92c3e66c9",
   "metadata": {},
   "outputs": [
    {
     "name": "stdout",
     "output_type": "stream",
     "text": [
      "8     0.004002\n",
      "9     0.003001\n",
      "10    0.003001\n",
      "11    0.003001\n",
      "Name: Unnamed: 2, dtype: float64 \n",
      " 0    0.007006\n",
      "1    0.012011\n",
      "2    0.014012\n",
      "3    0.005004\n",
      "Name: Unnamed: 2, dtype: float64 \n",
      " 4    0.000969\n",
      "5    0.003990\n",
      "6    0.002956\n",
      "7    0.001993\n",
      "Name: Unnamed: 2, dtype: float64\n"
     ]
    }
   ],
   "source": [
    "print(lm, '\\n', rf, '\\n', svm)"
   ]
  },
  {
   "cell_type": "code",
   "execution_count": 7,
   "id": "b4d5217f-f2d6-4deb-940c-ef9e9f033050",
   "metadata": {},
   "outputs": [
    {
     "data": {
      "image/png": "[encoded data removed]",
      "text/plain": [
       "<Figure size 432x288 with 1 Axes>"
      ]
     },
     "metadata": {
      "needs_background": "light"
     },
     "output_type": "display_data"
    }
   ],
   "source": [
    "plt.plot(X, lm, color='r', label='Logistic regression')\n",
    "plt.plot(X, rf, color='g', label='Random Forest')\n",
    "plt.plot(X, svm, color='b', label='SVM')\n",
    "\n",
    "plt.xlabel(\"Data size\")\n",
    "plt.ylabel(\"Time (Seconds)\")\n",
    "plt.title(\"Scalability of Models\")\n",
    "  \n",
    "# Adding legend, which helps us recognize the curve according to it's color\n",
    "plt.legend(loc='right', bbox_to_anchor=(1.42, 0.8), fancybox=True, shadow=True)\n",
    "  \n",
    "# To load the display window\n",
    "plt.savefig('stability.png', bbox_inches='tight')\n",
    "plt.show()"
   ]
  },
  {
   "cell_type": "code",
   "execution_count": null,
   "id": "442282f1-3667-48b3-ba6b-d5bf80b72cf3",
   "metadata": {},
   "outputs": [],
   "source": []
  },
  {
   "cell_type": "code",
   "execution_count": null,
   "id": "ccc9ee46-0f07-4820-bc7b-001d084b4050",
   "metadata": {},
   "outputs": [],
   "source": []
  },
  {
   "cell_type": "code",
   "execution_count": null,
   "id": "2226c782-4da0-4e2c-930f-70cdd4d463b7",
   "metadata": {},
   "outputs": [],
   "source": []
  }
 ],
 "metadata": {
  "kernelspec": {
   "display_name": "Python 3 (ipykernel)",
   "language": "python",
   "name": "python3"
  },
  "language_info": {
   "codemirror_mode": {
    "name": "ipython",
    "version": 3
   },
   "file_extension": ".py",
   "mimetype": "text/x-python",
   "name": "python",
   "nbconvert_exporter": "python",
   "pygments_lexer": "ipython3",
   "version": "3.9.7"
  }
 },
 "nbformat": 4,
 "nbformat_minor": 5
}
