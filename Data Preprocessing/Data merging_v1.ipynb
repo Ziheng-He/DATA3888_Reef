{
 "cells": [
  {
   "cell_type": "markdown",
   "id": "0b260eaa-fdce-4672-9774-230ae6103ea9",
   "metadata": {},
   "source": [
    "# Data Merging\n",
    "**The purpose of this notebook is to merge data found from the AIMS eReefs Visualisation Portal with the Reef Check/CoRTAD data that we were introduced to during the labs. Data from AIMS is in NetCDF format, which have them been converted to CSV, using \"NetCDF-conversion.py\". Merging method is by coordinates of data points (longitude and latitude). Exact matching of data was not achievable, as the coordinates won't match. The decision was to allow a half degree difference when matching, in each axis.**"
   ]
  },
  {
   "cell_type": "code",
   "execution_count": 1,
   "id": "37eda2f5-d43b-4611-84f3-e72632a83b97",
   "metadata": {},
   "outputs": [],
   "source": [
    "import pandas as pd\n",
    "import numpy as np"
   ]
  },
  {
   "cell_type": "code",
   "execution_count": 2,
   "id": "850c2e1c-e2b4-463d-83ea-7a204c5223a4",
   "metadata": {},
   "outputs": [],
   "source": [
    "# Data\n",
    "data_dir = \"./Data/\"\n",
    "reef_check_path = data_dir + \"Reef_Check_with_cortad_variables_with_annual_rate_of_SST_change.csv\"\n",
    "aims_path = data_dir + \"eReefs-aggregated-monthly-data.csv\""
   ]
  },
  {
   "cell_type": "markdown",
   "id": "e19d5fb4-15b6-45b7-ac1a-2c06902ac7bc",
   "metadata": {},
   "source": [
    "## Inspecting Data"
   ]
  },
  {
   "cell_type": "code",
   "execution_count": 3,
   "id": "d21559ac-4efc-457f-9968-b9825e8f00e1",
   "metadata": {},
   "outputs": [],
   "source": [
    "# Read data and have a brief look\n",
    "reef_check = pd.read_csv(reef_check_path)\n",
    "aims = pd.read_csv(aims_path)"
   ]
  },
  {
   "cell_type": "code",
   "execution_count": 4,
   "id": "c50cb3cc-625b-4ee5-a89a-4ce72ffdc601",
   "metadata": {},
   "outputs": [
    {
     "data": {
      "text/html": [
       "<div>\n",
       "<style scoped>\n",
       "    .dataframe tbody tr th:only-of-type {\n",
       "        vertical-align: middle;\n",
       "    }\n",
       "\n",
       "    .dataframe tbody tr th {\n",
       "        vertical-align: top;\n",
       "    }\n",
       "\n",
       "    .dataframe thead th {\n",
       "        text-align: right;\n",
       "    }\n",
       "</style>\n",
       "<table border=\"1\" class=\"dataframe\">\n",
       "  <thead>\n",
       "    <tr style=\"text-align: right;\">\n",
       "      <th></th>\n",
       "      <th>Reef.ID</th>\n",
       "      <th>Reef.Name</th>\n",
       "      <th>Ocean</th>\n",
       "      <th>Country</th>\n",
       "      <th>State.Province.Island</th>\n",
       "      <th>City.Town</th>\n",
       "      <th>Year</th>\n",
       "      <th>Date</th>\n",
       "      <th>Depth</th>\n",
       "      <th>Organism.Code</th>\n",
       "      <th>...</th>\n",
       "      <th>TSA_FrequencyMean</th>\n",
       "      <th>TSA_DHW</th>\n",
       "      <th>TSA_DHW_Standard_Deviation</th>\n",
       "      <th>TSA_DHWMax</th>\n",
       "      <th>TSA_DHWMean</th>\n",
       "      <th>Region</th>\n",
       "      <th>Diversity</th>\n",
       "      <th>rate_of_SST_change</th>\n",
       "      <th>Longitude.Degrees</th>\n",
       "      <th>Latitude.Degrees</th>\n",
       "    </tr>\n",
       "  </thead>\n",
       "  <tbody>\n",
       "    <tr>\n",
       "      <th>0</th>\n",
       "      <td>103.10.28.1E.10.50.46.1N</td>\n",
       "      <td>Koh Mano (Minor)</td>\n",
       "      <td>Indian</td>\n",
       "      <td>Cambodia</td>\n",
       "      <td>Koh Kong</td>\n",
       "      <td>NaN</td>\n",
       "      <td>2003</td>\n",
       "      <td>19-Feb-03</td>\n",
       "      <td>4.5</td>\n",
       "      <td>Bleaching (% of population)</td>\n",
       "      <td>...</td>\n",
       "      <td>1.0</td>\n",
       "      <td>0.0</td>\n",
       "      <td>1.690</td>\n",
       "      <td>14.560</td>\n",
       "      <td>0.590</td>\n",
       "      <td>ERG050</td>\n",
       "      <td>417.0</td>\n",
       "      <td>0.020556</td>\n",
       "      <td>103.174472</td>\n",
       "      <td>10.846139</td>\n",
       "    </tr>\n",
       "    <tr>\n",
       "      <th>1</th>\n",
       "      <td>103.11.35.5E.10.49.32N</td>\n",
       "      <td>Koh Mano (south)</td>\n",
       "      <td>Indian</td>\n",
       "      <td>Cambodia</td>\n",
       "      <td>Koh Kong</td>\n",
       "      <td>NaN</td>\n",
       "      <td>2003</td>\n",
       "      <td>28-Feb-03</td>\n",
       "      <td>4.5</td>\n",
       "      <td>Bleaching (% of population)</td>\n",
       "      <td>...</td>\n",
       "      <td>1.0</td>\n",
       "      <td>0.0</td>\n",
       "      <td>1.800</td>\n",
       "      <td>17.010</td>\n",
       "      <td>0.520</td>\n",
       "      <td>ERG050</td>\n",
       "      <td>417.0</td>\n",
       "      <td>0.020556</td>\n",
       "      <td>103.193194</td>\n",
       "      <td>10.825556</td>\n",
       "    </tr>\n",
       "    <tr>\n",
       "      <th>2</th>\n",
       "      <td>103.11.79.5E.10.48.2.7N</td>\n",
       "      <td>Koh Ta Team</td>\n",
       "      <td>Indian</td>\n",
       "      <td>Cambodia</td>\n",
       "      <td>Koh Kong</td>\n",
       "      <td>NaN</td>\n",
       "      <td>2003</td>\n",
       "      <td>24-Feb-03</td>\n",
       "      <td>5.0</td>\n",
       "      <td>Bleaching (% of population)</td>\n",
       "      <td>...</td>\n",
       "      <td>1.0</td>\n",
       "      <td>0.0</td>\n",
       "      <td>1.620</td>\n",
       "      <td>13.760</td>\n",
       "      <td>0.520</td>\n",
       "      <td>ERG050</td>\n",
       "      <td>417.0</td>\n",
       "      <td>0.020556</td>\n",
       "      <td>103.196583</td>\n",
       "      <td>10.800750</td>\n",
       "    </tr>\n",
       "    <tr>\n",
       "      <th>3</th>\n",
       "      <td>103.4.16.8E.11.3.36.2N</td>\n",
       "      <td>Koh Krosa Krao</td>\n",
       "      <td>Indian</td>\n",
       "      <td>Cambodia</td>\n",
       "      <td>Koh Kong</td>\n",
       "      <td>NaN</td>\n",
       "      <td>2003</td>\n",
       "      <td>25-Feb-03</td>\n",
       "      <td>6.0</td>\n",
       "      <td>Bleaching (% of population)</td>\n",
       "      <td>...</td>\n",
       "      <td>1.0</td>\n",
       "      <td>0.0</td>\n",
       "      <td>1.450</td>\n",
       "      <td>10.940</td>\n",
       "      <td>0.410</td>\n",
       "      <td>ERG050</td>\n",
       "      <td>417.0</td>\n",
       "      <td>0.019066</td>\n",
       "      <td>103.071333</td>\n",
       "      <td>11.060056</td>\n",
       "    </tr>\n",
       "    <tr>\n",
       "      <th>4</th>\n",
       "      <td>103.4.63.9E.11.3.58.3N</td>\n",
       "      <td>Koh Krosa Kandal</td>\n",
       "      <td>Indian</td>\n",
       "      <td>Cambodia</td>\n",
       "      <td>Koh Kong</td>\n",
       "      <td>NaN</td>\n",
       "      <td>2003</td>\n",
       "      <td>27-Feb-03</td>\n",
       "      <td>3.2</td>\n",
       "      <td>Bleaching (% of population)</td>\n",
       "      <td>...</td>\n",
       "      <td>1.0</td>\n",
       "      <td>0.0</td>\n",
       "      <td>1.692</td>\n",
       "      <td>15.038</td>\n",
       "      <td>0.488</td>\n",
       "      <td>ERG050</td>\n",
       "      <td>417.0</td>\n",
       "      <td>0.019066</td>\n",
       "      <td>103.077306</td>\n",
       "      <td>11.066194</td>\n",
       "    </tr>\n",
       "  </tbody>\n",
       "</table>\n",
       "<p>5 rows × 55 columns</p>\n",
       "</div>"
      ],
      "text/plain": [
       "                    Reef.ID         Reef.Name   Ocean   Country  \\\n",
       "0  103.10.28.1E.10.50.46.1N  Koh Mano (Minor)  Indian  Cambodia   \n",
       "1    103.11.35.5E.10.49.32N  Koh Mano (south)  Indian  Cambodia   \n",
       "2   103.11.79.5E.10.48.2.7N       Koh Ta Team  Indian  Cambodia   \n",
       "3    103.4.16.8E.11.3.36.2N    Koh Krosa Krao  Indian  Cambodia   \n",
       "4    103.4.63.9E.11.3.58.3N  Koh Krosa Kandal  Indian  Cambodia   \n",
       "\n",
       "  State.Province.Island City.Town  Year       Date  Depth  \\\n",
       "0              Koh Kong       NaN  2003  19-Feb-03    4.5   \n",
       "1              Koh Kong       NaN  2003  28-Feb-03    4.5   \n",
       "2              Koh Kong       NaN  2003  24-Feb-03    5.0   \n",
       "3              Koh Kong       NaN  2003  25-Feb-03    6.0   \n",
       "4              Koh Kong       NaN  2003  27-Feb-03    3.2   \n",
       "\n",
       "                 Organism.Code  ...  TSA_FrequencyMean  TSA_DHW  \\\n",
       "0  Bleaching (% of population)  ...                1.0      0.0   \n",
       "1  Bleaching (% of population)  ...                1.0      0.0   \n",
       "2  Bleaching (% of population)  ...                1.0      0.0   \n",
       "3  Bleaching (% of population)  ...                1.0      0.0   \n",
       "4  Bleaching (% of population)  ...                1.0      0.0   \n",
       "\n",
       "   TSA_DHW_Standard_Deviation  TSA_DHWMax  TSA_DHWMean  Region  Diversity  \\\n",
       "0                       1.690      14.560        0.590  ERG050      417.0   \n",
       "1                       1.800      17.010        0.520  ERG050      417.0   \n",
       "2                       1.620      13.760        0.520  ERG050      417.0   \n",
       "3                       1.450      10.940        0.410  ERG050      417.0   \n",
       "4                       1.692      15.038        0.488  ERG050      417.0   \n",
       "\n",
       "   rate_of_SST_change  Longitude.Degrees  Latitude.Degrees  \n",
       "0            0.020556         103.174472         10.846139  \n",
       "1            0.020556         103.193194         10.825556  \n",
       "2            0.020556         103.196583         10.800750  \n",
       "3            0.019066         103.071333         11.060056  \n",
       "4            0.019066         103.077306         11.066194  \n",
       "\n",
       "[5 rows x 55 columns]"
      ]
     },
     "execution_count": 4,
     "metadata": {},
     "output_type": "execute_result"
    }
   ],
   "source": [
    "reef_check.head()"
   ]
  },
  {
   "cell_type": "code",
   "execution_count": 5,
   "id": "ca178d0a-50a2-4ccb-9633-acaefdac2c5c",
   "metadata": {},
   "outputs": [
    {
     "data": {
      "text/html": [
       "<div>\n",
       "<style scoped>\n",
       "    .dataframe tbody tr th:only-of-type {\n",
       "        vertical-align: middle;\n",
       "    }\n",
       "\n",
       "    .dataframe tbody tr th {\n",
       "        vertical-align: top;\n",
       "    }\n",
       "\n",
       "    .dataframe thead th {\n",
       "        text-align: right;\n",
       "    }\n",
       "</style>\n",
       "<table border=\"1\" class=\"dataframe\">\n",
       "  <thead>\n",
       "    <tr style=\"text-align: right;\">\n",
       "      <th></th>\n",
       "      <th>latitude</th>\n",
       "      <th>longitude</th>\n",
       "      <th>eta</th>\n",
       "      <th>salt</th>\n",
       "      <th>temp</th>\n",
       "      <th>wspeed_u</th>\n",
       "      <th>wspeed_v</th>\n",
       "      <th>mean_wspeed</th>\n",
       "      <th>u</th>\n",
       "      <th>v</th>\n",
       "      <th>mean_cur</th>\n",
       "      <th>year</th>\n",
       "      <th>month</th>\n",
       "    </tr>\n",
       "  </thead>\n",
       "  <tbody>\n",
       "    <tr>\n",
       "      <th>0</th>\n",
       "      <td>-28.696022</td>\n",
       "      <td>153.688788</td>\n",
       "      <td>-0.305821</td>\n",
       "      <td>35.540714</td>\n",
       "      <td>21.575321</td>\n",
       "      <td>0.235666</td>\n",
       "      <td>-1.500159</td>\n",
       "      <td>6.352422</td>\n",
       "      <td>0.062902</td>\n",
       "      <td>-0.641632</td>\n",
       "      <td>0.793684</td>\n",
       "      <td>2010</td>\n",
       "      <td>9</td>\n",
       "    </tr>\n",
       "    <tr>\n",
       "      <th>1</th>\n",
       "      <td>-28.696022</td>\n",
       "      <td>153.808788</td>\n",
       "      <td>-0.247241</td>\n",
       "      <td>35.518906</td>\n",
       "      <td>22.374939</td>\n",
       "      <td>0.354274</td>\n",
       "      <td>-1.771560</td>\n",
       "      <td>6.826605</td>\n",
       "      <td>0.001102</td>\n",
       "      <td>-0.895112</td>\n",
       "      <td>0.946391</td>\n",
       "      <td>2010</td>\n",
       "      <td>9</td>\n",
       "    </tr>\n",
       "    <tr>\n",
       "      <th>2</th>\n",
       "      <td>-28.696022</td>\n",
       "      <td>153.928788</td>\n",
       "      <td>-0.171045</td>\n",
       "      <td>35.508064</td>\n",
       "      <td>22.678856</td>\n",
       "      <td>0.277497</td>\n",
       "      <td>-1.897144</td>\n",
       "      <td>6.999744</td>\n",
       "      <td>-0.055618</td>\n",
       "      <td>-0.952047</td>\n",
       "      <td>0.978366</td>\n",
       "      <td>2010</td>\n",
       "      <td>9</td>\n",
       "    </tr>\n",
       "    <tr>\n",
       "      <th>3</th>\n",
       "      <td>-28.696022</td>\n",
       "      <td>154.048788</td>\n",
       "      <td>-0.099933</td>\n",
       "      <td>35.533850</td>\n",
       "      <td>22.471252</td>\n",
       "      <td>0.164686</td>\n",
       "      <td>-1.925546</td>\n",
       "      <td>7.053525</td>\n",
       "      <td>-0.033786</td>\n",
       "      <td>-0.801583</td>\n",
       "      <td>0.813448</td>\n",
       "      <td>2010</td>\n",
       "      <td>9</td>\n",
       "    </tr>\n",
       "    <tr>\n",
       "      <th>4</th>\n",
       "      <td>-28.696022</td>\n",
       "      <td>154.168788</td>\n",
       "      <td>-0.042675</td>\n",
       "      <td>35.561455</td>\n",
       "      <td>22.296648</td>\n",
       "      <td>0.073256</td>\n",
       "      <td>-1.877180</td>\n",
       "      <td>7.077173</td>\n",
       "      <td>-0.008968</td>\n",
       "      <td>-0.542457</td>\n",
       "      <td>0.563871</td>\n",
       "      <td>2010</td>\n",
       "      <td>9</td>\n",
       "    </tr>\n",
       "  </tbody>\n",
       "</table>\n",
       "</div>"
      ],
      "text/plain": [
       "    latitude   longitude       eta       salt       temp  wspeed_u  wspeed_v  \\\n",
       "0 -28.696022  153.688788 -0.305821  35.540714  21.575321  0.235666 -1.500159   \n",
       "1 -28.696022  153.808788 -0.247241  35.518906  22.374939  0.354274 -1.771560   \n",
       "2 -28.696022  153.928788 -0.171045  35.508064  22.678856  0.277497 -1.897144   \n",
       "3 -28.696022  154.048788 -0.099933  35.533850  22.471252  0.164686 -1.925546   \n",
       "4 -28.696022  154.168788 -0.042675  35.561455  22.296648  0.073256 -1.877180   \n",
       "\n",
       "   mean_wspeed         u         v  mean_cur  year  month  \n",
       "0     6.352422  0.062902 -0.641632  0.793684  2010      9  \n",
       "1     6.826605  0.001102 -0.895112  0.946391  2010      9  \n",
       "2     6.999744 -0.055618 -0.952047  0.978366  2010      9  \n",
       "3     7.053525 -0.033786 -0.801583  0.813448  2010      9  \n",
       "4     7.077173 -0.008968 -0.542457  0.563871  2010      9  "
      ]
     },
     "execution_count": 5,
     "metadata": {},
     "output_type": "execute_result"
    }
   ],
   "source": [
    "aims.head()"
   ]
  },
  {
   "cell_type": "markdown",
   "id": "4376d809-8717-4e0d-aed4-4cb2357d58ca",
   "metadata": {},
   "source": [
    "**Each of the data sets have columns corresponding to longitude and latitude. All data points in AIMS are in Australia, particularly the Great Barrier Reef, so all are valid for us. It would be useful to know how many data points in the Reef Check data set are located in this area. According to Marineregions.org, the bounding box for the Great Barrier Reef is Min. Lat\t22° 26' 35.7\" S (-22.4433°), Min. Long\t142° 55' 48.1\" E (142.93°), Max. Lat\t9° 13' 59.3\" S (-9.2331°), Max. Long\t152° 49' 25.6\" E (152.8238°). However, the data in AIMS suggests otherwise. The bounding box used for filtering GBR data points in the reef check data should match that of AIMS'. A half degree leeway is added to each axis in both direction.**\n",
    "\n",
    "Marineregions.org webpage for GBR: https://www.marineregions.org/gazetteer.php?p=details&id=7579 "
   ]
  },
  {
   "cell_type": "code",
   "execution_count": 6,
   "id": "10817204-ef37-4708-b0f4-b4b81dbf0e0f",
   "metadata": {},
   "outputs": [
    {
     "name": "stdout",
     "output_type": "stream",
     "text": [
      "Longitude and latitude range of data in AIMS\n",
      "-28.696022 -7.576022\n",
      "142.408788 156.808788\n"
     ]
    }
   ],
   "source": [
    "print(\"Longitude and latitude range of data in AIMS\")\n",
    "print(min(aims['latitude']), max(aims['latitude']))\n",
    "print(min(aims['longitude']), max(aims['longitude']))"
   ]
  },
  {
   "cell_type": "code",
   "execution_count": 7,
   "id": "4e5f99a0-de22-414e-aa75-869994c9c72c",
   "metadata": {},
   "outputs": [
    {
     "data": {
      "text/plain": [
       "Reef.ID                                   object\n",
       "Reef.Name                                 object\n",
       "Ocean                                     object\n",
       "Country                                   object\n",
       "State.Province.Island                     object\n",
       "City.Town                                 object\n",
       "Year                                       int64\n",
       "Date                                      object\n",
       "Depth                                    float64\n",
       "Organism.Code                             object\n",
       "S1                                       float64\n",
       "S2                                       float64\n",
       "S3                                       float64\n",
       "S4                                       float64\n",
       "Errors.                                     bool\n",
       "What.errors.                              object\n",
       "Average_bleaching                        float64\n",
       "ClimSST                                  float64\n",
       "Temperature_Kelvin                       float64\n",
       "Temperature_Mean                         float64\n",
       "Temperature_Minimum                      float64\n",
       "Temperature_Maximum                      float64\n",
       "Temperature_Kelvin_Standard_Deviation    float64\n",
       "Windspeed                                float64\n",
       "SSTA                                     float64\n",
       "SSTA_Standard_Deviation                  float64\n",
       "SSTA_Mean                                float64\n",
       "SSTA_Minimum                             float64\n",
       "SSTA_Maximum                             float64\n",
       "SSTA_Frequency                           float64\n",
       "SSTA_Frequency_Standard_Deviation        float64\n",
       "SSTA_FrequencyMax                        float64\n",
       "SSTA_FrequencyMean                       float64\n",
       "SSTA_DHW                                 float64\n",
       "SSTA_DHW_Standard_Deviation              float64\n",
       "SSTA_DHWMax                              float64\n",
       "SSTA_DHWMean                             float64\n",
       "TSA                                      float64\n",
       "TSA_Standard_Deviation                   float64\n",
       "TSA_Minimum                              float64\n",
       "TSA_Maximum                              float64\n",
       "TSA_Mean                                 float64\n",
       "TSA_Frequency                            float64\n",
       "TSA_Frequency_Standard_Deviation         float64\n",
       "TSA_FrequencyMax                         float64\n",
       "TSA_FrequencyMean                        float64\n",
       "TSA_DHW                                  float64\n",
       "TSA_DHW_Standard_Deviation               float64\n",
       "TSA_DHWMax                               float64\n",
       "TSA_DHWMean                              float64\n",
       "Region                                    object\n",
       "Diversity                                float64\n",
       "rate_of_SST_change                       float64\n",
       "Longitude.Degrees                        float64\n",
       "Latitude.Degrees                         float64\n",
       "dtype: object"
      ]
     },
     "execution_count": 7,
     "metadata": {},
     "output_type": "execute_result"
    }
   ],
   "source": [
    "reef_check.dtypes"
   ]
  },
  {
   "cell_type": "code",
   "execution_count": 8,
   "id": "26efc3c2-1685-49a7-971c-6933536e8788",
   "metadata": {},
   "outputs": [
    {
     "data": {
      "text/html": [
       "<div>\n",
       "<style scoped>\n",
       "    .dataframe tbody tr th:only-of-type {\n",
       "        vertical-align: middle;\n",
       "    }\n",
       "\n",
       "    .dataframe tbody tr th {\n",
       "        vertical-align: top;\n",
       "    }\n",
       "\n",
       "    .dataframe thead th {\n",
       "        text-align: right;\n",
       "    }\n",
       "</style>\n",
       "<table border=\"1\" class=\"dataframe\">\n",
       "  <thead>\n",
       "    <tr style=\"text-align: right;\">\n",
       "      <th></th>\n",
       "      <th>Reef.ID</th>\n",
       "      <th>Reef.Name</th>\n",
       "      <th>Ocean</th>\n",
       "      <th>Country</th>\n",
       "      <th>State.Province.Island</th>\n",
       "      <th>City.Town</th>\n",
       "      <th>Year</th>\n",
       "      <th>Date</th>\n",
       "      <th>Depth</th>\n",
       "      <th>Organism.Code</th>\n",
       "      <th>...</th>\n",
       "      <th>TSA_DHW</th>\n",
       "      <th>TSA_DHW_Standard_Deviation</th>\n",
       "      <th>TSA_DHWMax</th>\n",
       "      <th>TSA_DHWMean</th>\n",
       "      <th>Region</th>\n",
       "      <th>Diversity</th>\n",
       "      <th>rate_of_SST_change</th>\n",
       "      <th>Longitude.Degrees</th>\n",
       "      <th>Latitude.Degrees</th>\n",
       "      <th>Month</th>\n",
       "    </tr>\n",
       "  </thead>\n",
       "  <tbody>\n",
       "    <tr>\n",
       "      <th>0</th>\n",
       "      <td>103.10.28.1E.10.50.46.1N</td>\n",
       "      <td>Koh Mano (Minor)</td>\n",
       "      <td>Indian</td>\n",
       "      <td>Cambodia</td>\n",
       "      <td>Koh Kong</td>\n",
       "      <td>NaN</td>\n",
       "      <td>2003</td>\n",
       "      <td>2003-02-19</td>\n",
       "      <td>4.5</td>\n",
       "      <td>Bleaching (% of population)</td>\n",
       "      <td>...</td>\n",
       "      <td>0.0</td>\n",
       "      <td>1.690</td>\n",
       "      <td>14.560</td>\n",
       "      <td>0.590</td>\n",
       "      <td>ERG050</td>\n",
       "      <td>417.0</td>\n",
       "      <td>0.020556</td>\n",
       "      <td>103.174472</td>\n",
       "      <td>10.846139</td>\n",
       "      <td>2</td>\n",
       "    </tr>\n",
       "    <tr>\n",
       "      <th>1</th>\n",
       "      <td>103.11.35.5E.10.49.32N</td>\n",
       "      <td>Koh Mano (south)</td>\n",
       "      <td>Indian</td>\n",
       "      <td>Cambodia</td>\n",
       "      <td>Koh Kong</td>\n",
       "      <td>NaN</td>\n",
       "      <td>2003</td>\n",
       "      <td>2003-02-28</td>\n",
       "      <td>4.5</td>\n",
       "      <td>Bleaching (% of population)</td>\n",
       "      <td>...</td>\n",
       "      <td>0.0</td>\n",
       "      <td>1.800</td>\n",
       "      <td>17.010</td>\n",
       "      <td>0.520</td>\n",
       "      <td>ERG050</td>\n",
       "      <td>417.0</td>\n",
       "      <td>0.020556</td>\n",
       "      <td>103.193194</td>\n",
       "      <td>10.825556</td>\n",
       "      <td>2</td>\n",
       "    </tr>\n",
       "    <tr>\n",
       "      <th>2</th>\n",
       "      <td>103.11.79.5E.10.48.2.7N</td>\n",
       "      <td>Koh Ta Team</td>\n",
       "      <td>Indian</td>\n",
       "      <td>Cambodia</td>\n",
       "      <td>Koh Kong</td>\n",
       "      <td>NaN</td>\n",
       "      <td>2003</td>\n",
       "      <td>2003-02-24</td>\n",
       "      <td>5.0</td>\n",
       "      <td>Bleaching (% of population)</td>\n",
       "      <td>...</td>\n",
       "      <td>0.0</td>\n",
       "      <td>1.620</td>\n",
       "      <td>13.760</td>\n",
       "      <td>0.520</td>\n",
       "      <td>ERG050</td>\n",
       "      <td>417.0</td>\n",
       "      <td>0.020556</td>\n",
       "      <td>103.196583</td>\n",
       "      <td>10.800750</td>\n",
       "      <td>2</td>\n",
       "    </tr>\n",
       "    <tr>\n",
       "      <th>3</th>\n",
       "      <td>103.4.16.8E.11.3.36.2N</td>\n",
       "      <td>Koh Krosa Krao</td>\n",
       "      <td>Indian</td>\n",
       "      <td>Cambodia</td>\n",
       "      <td>Koh Kong</td>\n",
       "      <td>NaN</td>\n",
       "      <td>2003</td>\n",
       "      <td>2003-02-25</td>\n",
       "      <td>6.0</td>\n",
       "      <td>Bleaching (% of population)</td>\n",
       "      <td>...</td>\n",
       "      <td>0.0</td>\n",
       "      <td>1.450</td>\n",
       "      <td>10.940</td>\n",
       "      <td>0.410</td>\n",
       "      <td>ERG050</td>\n",
       "      <td>417.0</td>\n",
       "      <td>0.019066</td>\n",
       "      <td>103.071333</td>\n",
       "      <td>11.060056</td>\n",
       "      <td>2</td>\n",
       "    </tr>\n",
       "    <tr>\n",
       "      <th>4</th>\n",
       "      <td>103.4.63.9E.11.3.58.3N</td>\n",
       "      <td>Koh Krosa Kandal</td>\n",
       "      <td>Indian</td>\n",
       "      <td>Cambodia</td>\n",
       "      <td>Koh Kong</td>\n",
       "      <td>NaN</td>\n",
       "      <td>2003</td>\n",
       "      <td>2003-02-27</td>\n",
       "      <td>3.2</td>\n",
       "      <td>Bleaching (% of population)</td>\n",
       "      <td>...</td>\n",
       "      <td>0.0</td>\n",
       "      <td>1.692</td>\n",
       "      <td>15.038</td>\n",
       "      <td>0.488</td>\n",
       "      <td>ERG050</td>\n",
       "      <td>417.0</td>\n",
       "      <td>0.019066</td>\n",
       "      <td>103.077306</td>\n",
       "      <td>11.066194</td>\n",
       "      <td>2</td>\n",
       "    </tr>\n",
       "  </tbody>\n",
       "</table>\n",
       "<p>5 rows × 56 columns</p>\n",
       "</div>"
      ],
      "text/plain": [
       "                    Reef.ID         Reef.Name   Ocean   Country  \\\n",
       "0  103.10.28.1E.10.50.46.1N  Koh Mano (Minor)  Indian  Cambodia   \n",
       "1    103.11.35.5E.10.49.32N  Koh Mano (south)  Indian  Cambodia   \n",
       "2   103.11.79.5E.10.48.2.7N       Koh Ta Team  Indian  Cambodia   \n",
       "3    103.4.16.8E.11.3.36.2N    Koh Krosa Krao  Indian  Cambodia   \n",
       "4    103.4.63.9E.11.3.58.3N  Koh Krosa Kandal  Indian  Cambodia   \n",
       "\n",
       "  State.Province.Island City.Town  Year       Date  Depth  \\\n",
       "0              Koh Kong       NaN  2003 2003-02-19    4.5   \n",
       "1              Koh Kong       NaN  2003 2003-02-28    4.5   \n",
       "2              Koh Kong       NaN  2003 2003-02-24    5.0   \n",
       "3              Koh Kong       NaN  2003 2003-02-25    6.0   \n",
       "4              Koh Kong       NaN  2003 2003-02-27    3.2   \n",
       "\n",
       "                 Organism.Code  ...  TSA_DHW  TSA_DHW_Standard_Deviation  \\\n",
       "0  Bleaching (% of population)  ...      0.0                       1.690   \n",
       "1  Bleaching (% of population)  ...      0.0                       1.800   \n",
       "2  Bleaching (% of population)  ...      0.0                       1.620   \n",
       "3  Bleaching (% of population)  ...      0.0                       1.450   \n",
       "4  Bleaching (% of population)  ...      0.0                       1.692   \n",
       "\n",
       "   TSA_DHWMax  TSA_DHWMean  Region Diversity  rate_of_SST_change  \\\n",
       "0      14.560        0.590  ERG050     417.0            0.020556   \n",
       "1      17.010        0.520  ERG050     417.0            0.020556   \n",
       "2      13.760        0.520  ERG050     417.0            0.020556   \n",
       "3      10.940        0.410  ERG050     417.0            0.019066   \n",
       "4      15.038        0.488  ERG050     417.0            0.019066   \n",
       "\n",
       "   Longitude.Degrees  Latitude.Degrees  Month  \n",
       "0         103.174472         10.846139      2  \n",
       "1         103.193194         10.825556      2  \n",
       "2         103.196583         10.800750      2  \n",
       "3         103.071333         11.060056      2  \n",
       "4         103.077306         11.066194      2  \n",
       "\n",
       "[5 rows x 56 columns]"
      ]
     },
     "execution_count": 8,
     "metadata": {},
     "output_type": "execute_result"
    }
   ],
   "source": [
    "# Conver date in reef check to datetime dtype\n",
    "reef_check['Date'] = pd.to_datetime(reef_check['Date'])\n",
    "\n",
    "# Add month column\n",
    "reef_check['Month'] = reef_check['Date'].dt.month\n",
    "reef_check.head()"
   ]
  },
  {
   "cell_type": "code",
   "execution_count": 9,
   "id": "58c5a1c8-1e73-46d9-9207-47afd15a124e",
   "metadata": {},
   "outputs": [],
   "source": [
    "# Count number of Great Barrier Reef data points in Reef Check\n",
    "gbr_reefcheck = reef_check[(reef_check['Longitude.Degrees'] <= max(aims['longitude'])+0.5) &\\\n",
    "                           (reef_check['Longitude.Degrees'] >= min(aims['longitude'])-0.5) &\\\n",
    "                           (reef_check['Latitude.Degrees'] >= min(aims['latitude'])-0.5) &\\\n",
    "                           (reef_check['Latitude.Degrees'] <= max(aims['latitude'])+0.5)\n",
    "                          ]\n"
   ]
  },
  {
   "cell_type": "code",
   "execution_count": 10,
   "id": "7aedce0c-7f8d-4eef-b5a9-c3290547200c",
   "metadata": {},
   "outputs": [
    {
     "name": "stdout",
     "output_type": "stream",
     "text": [
      "Reef check dimension: (9215, 56)\n",
      "Great Barrier Reef points in reef check:  (642, 56)\n",
      "AIMS dimension:  (799656, 13)\n"
     ]
    }
   ],
   "source": [
    "print(\"Reef check dimension:\", reef_check.shape)\n",
    "print(\"Great Barrier Reef points in reef check: \", gbr_reefcheck.shape)\n",
    "print(\"AIMS dimension: \", aims.shape)"
   ]
  },
  {
   "cell_type": "markdown",
   "id": "1ff18684-8663-46fa-89bc-2b670a4f7dd0",
   "metadata": {},
   "source": [
    "## Exact match doesn't work (as expected)"
   ]
  },
  {
   "cell_type": "code",
   "execution_count": 11,
   "id": "8e4d6a68-d69f-429c-aab3-c075dda436e3",
   "metadata": {},
   "outputs": [
    {
     "data": {
      "text/plain": [
       "(0, 69)"
      ]
     },
     "execution_count": 11,
     "metadata": {},
     "output_type": "execute_result"
    }
   ],
   "source": [
    "# Trying exact merge, as shown below, it doesn't work\n",
    "gbr_reefcheck = gbr_reefcheck.rename(columns = {'Longitude.Degrees':'reef_longitude', 'Latitude.Degrees':'reef_latitude'})\n",
    "exact_merge = pd.merge(gbr_reefcheck, aims, how=\"inner\", left_on=[\"reef_latitude\", \"reef_longitude\"], right_on=['latitude', 'longitude'])\n",
    "exact_merge.shape"
   ]
  },
  {
   "cell_type": "code",
   "execution_count": 12,
   "id": "159185a4-ab3a-47a2-8218-151c1d3b7b45",
   "metadata": {},
   "outputs": [
    {
     "name": "stdout",
     "output_type": "stream",
     "text": [
      "Index(['Reef.ID', 'Reef.Name', 'Ocean', 'Country', 'State.Province.Island',\n",
      "       'City.Town', 'Year', 'Date', 'Depth', 'Organism.Code', 'S1', 'S2', 'S3',\n",
      "       'S4', 'Errors.', 'What.errors.', 'Average_bleaching', 'ClimSST',\n",
      "       'Temperature_Kelvin', 'Temperature_Mean', 'Temperature_Minimum',\n",
      "       'Temperature_Maximum', 'Temperature_Kelvin_Standard_Deviation',\n",
      "       'Windspeed', 'SSTA', 'SSTA_Standard_Deviation', 'SSTA_Mean',\n",
      "       'SSTA_Minimum', 'SSTA_Maximum', 'SSTA_Frequency',\n",
      "       'SSTA_Frequency_Standard_Deviation', 'SSTA_FrequencyMax',\n",
      "       'SSTA_FrequencyMean', 'SSTA_DHW', 'SSTA_DHW_Standard_Deviation',\n",
      "       'SSTA_DHWMax', 'SSTA_DHWMean', 'TSA', 'TSA_Standard_Deviation',\n",
      "       'TSA_Minimum', 'TSA_Maximum', 'TSA_Mean', 'TSA_Frequency',\n",
      "       'TSA_Frequency_Standard_Deviation', 'TSA_FrequencyMax',\n",
      "       'TSA_FrequencyMean', 'TSA_DHW', 'TSA_DHW_Standard_Deviation',\n",
      "       'TSA_DHWMax', 'TSA_DHWMean', 'Region', 'Diversity',\n",
      "       'rate_of_SST_change', 'reef_longitude', 'reef_latitude', 'Month',\n",
      "       'latitude', 'longitude', 'eta', 'salt', 'temp', 'wspeed_u', 'wspeed_v',\n",
      "       'mean_wspeed', 'u', 'v', 'mean_cur', 'year', 'month'],\n",
      "      dtype='object')\n"
     ]
    }
   ],
   "source": [
    "print(exact_merge.columns)"
   ]
  },
  {
   "cell_type": "markdown",
   "id": "863f68bc-1fad-4ecf-8487-214c321d1b69",
   "metadata": {
    "tags": []
   },
   "source": [
    "## Merging with leeway for coordinates\n",
    "**As mentioned before, leeway of 0.5 degrees in each direction is given, to help with merging. Method used was adapted from the stackoverflow answer by piRSquared, linked below.**\n",
    "\n",
    "https://stackoverflow.com/questions/44367672/best-way-to-join-merge-by-range-in-pandas"
   ]
  },
  {
   "cell_type": "code",
   "execution_count": 13,
   "id": "57416473-7e57-4678-b074-7c5acaf8500a",
   "metadata": {},
   "outputs": [],
   "source": [
    "# Creating columns for indicating coordinates range in AIMS\n",
    "aims['low_lat'] = aims['latitude'] - 0.5\n",
    "aims['high_lat'] = aims['latitude'] + 0.5\n",
    "aims['low_long'] = aims['longitude'] - 0.5\n",
    "aims['high_long'] = aims['longitude'] + 0.5"
   ]
  },
  {
   "cell_type": "code",
   "execution_count": 14,
   "id": "16e371a7-107c-4168-b570-756d714e7339",
   "metadata": {},
   "outputs": [],
   "source": [
    "reefcheck_lat = gbr_reefcheck.reef_latitude.values\n",
    "reefcheck_long = gbr_reefcheck.reef_longitude.values\n",
    "low_lat = aims.low_lat.values\n",
    "high_lat = aims.high_lat.values\n",
    "low_long = aims.low_long.values\n",
    "high_long = aims.high_long.values\n",
    "reefcheck_month = gbr_reefcheck.Month.values\n",
    "reefcheck_year = gbr_reefcheck.Year.values \n",
    "aims_month = aims.month.values\n",
    "aims_year = aims.year.values\n",
    "\n",
    "# Find index of rows where reefcheck coordinates within range (comparing month and year causes an elemenwise comparison failure)\n",
    "i, j = np.where( ((reefcheck_lat[:, None] >= low_lat) & (reefcheck_lat[:, None] <= high_lat)) &\\\n",
    "                 ((reefcheck_long[:, None] >= low_long) & (reefcheck_long[:, None] <= high_long)) \n",
    "                 # ((reefcheck_month == aims_month) & (reefcheck_year == aims_year))\n",
    "               )\n",
    "\n",
    "temp_merged = pd.concat([gbr_reefcheck.iloc[i, :].reset_index(drop=True),\n",
    "          aims.iloc[j, :].reset_index(drop=True)]\n",
    "    , axis=1)"
   ]
  },
  {
   "cell_type": "code",
   "execution_count": 15,
   "id": "106087c4-5889-49c3-859e-0e3c4137097b",
   "metadata": {},
   "outputs": [
    {
     "data": {
      "text/plain": [
       "(3145472, 73)"
      ]
     },
     "execution_count": 15,
     "metadata": {},
     "output_type": "execute_result"
    }
   ],
   "source": [
    "# Note this is with invalid rows, as month and year has not been matched yet\n",
    "temp_merged.shape"
   ]
  },
  {
   "cell_type": "code",
   "execution_count": 16,
   "id": "09dae73c-597e-4360-8cff-f018b27cf35a",
   "metadata": {},
   "outputs": [],
   "source": [
    "# Matching month and year from both data sets. Capitalized cols are from reefcheck.\n",
    "merged = temp_merged[(temp_merged.Month==temp_merged.month) & (temp_merged.Year==temp_merged.year)]"
   ]
  },
  {
   "cell_type": "code",
   "execution_count": 17,
   "id": "d4ea698e-61f9-4f50-bf15-61ab04723472",
   "metadata": {},
   "outputs": [
    {
     "data": {
      "text/plain": [
       "(14096, 73)"
      ]
     },
     "execution_count": 17,
     "metadata": {},
     "output_type": "execute_result"
    }
   ],
   "source": [
    "merged.shape"
   ]
  },
  {
   "cell_type": "code",
   "execution_count": 18,
   "id": "07049131-43c1-44a5-a103-6f6da4ba930a",
   "metadata": {},
   "outputs": [
    {
     "data": {
      "text/html": [
       "<div>\n",
       "<style scoped>\n",
       "    .dataframe tbody tr th:only-of-type {\n",
       "        vertical-align: middle;\n",
       "    }\n",
       "\n",
       "    .dataframe tbody tr th {\n",
       "        vertical-align: top;\n",
       "    }\n",
       "\n",
       "    .dataframe thead th {\n",
       "        text-align: right;\n",
       "    }\n",
       "</style>\n",
       "<table border=\"1\" class=\"dataframe\">\n",
       "  <thead>\n",
       "    <tr style=\"text-align: right;\">\n",
       "      <th></th>\n",
       "      <th>Reef.ID</th>\n",
       "      <th>Reef.Name</th>\n",
       "      <th>Ocean</th>\n",
       "      <th>Country</th>\n",
       "      <th>State.Province.Island</th>\n",
       "      <th>City.Town</th>\n",
       "      <th>Year</th>\n",
       "      <th>Date</th>\n",
       "      <th>Depth</th>\n",
       "      <th>Organism.Code</th>\n",
       "      <th>...</th>\n",
       "      <th>mean_wspeed</th>\n",
       "      <th>u</th>\n",
       "      <th>v</th>\n",
       "      <th>mean_cur</th>\n",
       "      <th>year</th>\n",
       "      <th>month</th>\n",
       "      <th>low_lat</th>\n",
       "      <th>high_lat</th>\n",
       "      <th>low_long</th>\n",
       "      <th>high_long</th>\n",
       "    </tr>\n",
       "  </thead>\n",
       "  <tbody>\n",
       "    <tr>\n",
       "      <th>1337658</th>\n",
       "      <td>153.29.29E.26.58.7S</td>\n",
       "      <td>Flinders Reef - Aladdin's Cave (Fringing reef ...</td>\n",
       "      <td>Pacific</td>\n",
       "      <td>Australia</td>\n",
       "      <td>Queensland</td>\n",
       "      <td>NaN</td>\n",
       "      <td>2010</td>\n",
       "      <td>2010-10-17</td>\n",
       "      <td>10.0</td>\n",
       "      <td>Bleaching (% of population)</td>\n",
       "      <td>...</td>\n",
       "      <td>5.232096</td>\n",
       "      <td>0.030541</td>\n",
       "      <td>0.005361</td>\n",
       "      <td>0.185999</td>\n",
       "      <td>2010</td>\n",
       "      <td>10</td>\n",
       "      <td>-27.876022</td>\n",
       "      <td>-26.876022</td>\n",
       "      <td>152.708788</td>\n",
       "      <td>153.708788</td>\n",
       "    </tr>\n",
       "    <tr>\n",
       "      <th>1337659</th>\n",
       "      <td>153.29.29E.26.58.7S</td>\n",
       "      <td>Flinders Reef - Aladdin's Cave (Fringing reef ...</td>\n",
       "      <td>Pacific</td>\n",
       "      <td>Australia</td>\n",
       "      <td>Queensland</td>\n",
       "      <td>NaN</td>\n",
       "      <td>2010</td>\n",
       "      <td>2010-10-17</td>\n",
       "      <td>10.0</td>\n",
       "      <td>Bleaching (% of population)</td>\n",
       "      <td>...</td>\n",
       "      <td>6.145797</td>\n",
       "      <td>-0.047292</td>\n",
       "      <td>0.002193</td>\n",
       "      <td>0.279372</td>\n",
       "      <td>2010</td>\n",
       "      <td>10</td>\n",
       "      <td>-27.876022</td>\n",
       "      <td>-26.876022</td>\n",
       "      <td>152.828788</td>\n",
       "      <td>153.828788</td>\n",
       "    </tr>\n",
       "    <tr>\n",
       "      <th>1337660</th>\n",
       "      <td>153.29.29E.26.58.7S</td>\n",
       "      <td>Flinders Reef - Aladdin's Cave (Fringing reef ...</td>\n",
       "      <td>Pacific</td>\n",
       "      <td>Australia</td>\n",
       "      <td>Queensland</td>\n",
       "      <td>NaN</td>\n",
       "      <td>2010</td>\n",
       "      <td>2010-10-17</td>\n",
       "      <td>10.0</td>\n",
       "      <td>Bleaching (% of population)</td>\n",
       "      <td>...</td>\n",
       "      <td>6.112157</td>\n",
       "      <td>0.037247</td>\n",
       "      <td>0.001953</td>\n",
       "      <td>0.520450</td>\n",
       "      <td>2010</td>\n",
       "      <td>10</td>\n",
       "      <td>-27.876022</td>\n",
       "      <td>-26.876022</td>\n",
       "      <td>152.948788</td>\n",
       "      <td>153.948788</td>\n",
       "    </tr>\n",
       "    <tr>\n",
       "      <th>1337661</th>\n",
       "      <td>153.29.29E.26.58.7S</td>\n",
       "      <td>Flinders Reef - Aladdin's Cave (Fringing reef ...</td>\n",
       "      <td>Pacific</td>\n",
       "      <td>Australia</td>\n",
       "      <td>Queensland</td>\n",
       "      <td>NaN</td>\n",
       "      <td>2010</td>\n",
       "      <td>2010-10-17</td>\n",
       "      <td>10.0</td>\n",
       "      <td>Bleaching (% of population)</td>\n",
       "      <td>...</td>\n",
       "      <td>6.153152</td>\n",
       "      <td>0.023441</td>\n",
       "      <td>-0.234490</td>\n",
       "      <td>0.362635</td>\n",
       "      <td>2010</td>\n",
       "      <td>10</td>\n",
       "      <td>-27.876022</td>\n",
       "      <td>-26.876022</td>\n",
       "      <td>153.068788</td>\n",
       "      <td>154.068788</td>\n",
       "    </tr>\n",
       "    <tr>\n",
       "      <th>1337662</th>\n",
       "      <td>153.29.29E.26.58.7S</td>\n",
       "      <td>Flinders Reef - Aladdin's Cave (Fringing reef ...</td>\n",
       "      <td>Pacific</td>\n",
       "      <td>Australia</td>\n",
       "      <td>Queensland</td>\n",
       "      <td>NaN</td>\n",
       "      <td>2010</td>\n",
       "      <td>2010-10-17</td>\n",
       "      <td>10.0</td>\n",
       "      <td>Bleaching (% of population)</td>\n",
       "      <td>...</td>\n",
       "      <td>6.168165</td>\n",
       "      <td>-0.014926</td>\n",
       "      <td>-0.402495</td>\n",
       "      <td>0.462817</td>\n",
       "      <td>2010</td>\n",
       "      <td>10</td>\n",
       "      <td>-27.876022</td>\n",
       "      <td>-26.876022</td>\n",
       "      <td>153.188788</td>\n",
       "      <td>154.188788</td>\n",
       "    </tr>\n",
       "  </tbody>\n",
       "</table>\n",
       "<p>5 rows × 73 columns</p>\n",
       "</div>"
      ],
      "text/plain": [
       "                     Reef.ID  \\\n",
       "1337658  153.29.29E.26.58.7S   \n",
       "1337659  153.29.29E.26.58.7S   \n",
       "1337660  153.29.29E.26.58.7S   \n",
       "1337661  153.29.29E.26.58.7S   \n",
       "1337662  153.29.29E.26.58.7S   \n",
       "\n",
       "                                                 Reef.Name    Ocean  \\\n",
       "1337658  Flinders Reef - Aladdin's Cave (Fringing reef ...  Pacific   \n",
       "1337659  Flinders Reef - Aladdin's Cave (Fringing reef ...  Pacific   \n",
       "1337660  Flinders Reef - Aladdin's Cave (Fringing reef ...  Pacific   \n",
       "1337661  Flinders Reef - Aladdin's Cave (Fringing reef ...  Pacific   \n",
       "1337662  Flinders Reef - Aladdin's Cave (Fringing reef ...  Pacific   \n",
       "\n",
       "           Country State.Province.Island City.Town  Year       Date  Depth  \\\n",
       "1337658  Australia            Queensland       NaN  2010 2010-10-17   10.0   \n",
       "1337659  Australia            Queensland       NaN  2010 2010-10-17   10.0   \n",
       "1337660  Australia            Queensland       NaN  2010 2010-10-17   10.0   \n",
       "1337661  Australia            Queensland       NaN  2010 2010-10-17   10.0   \n",
       "1337662  Australia            Queensland       NaN  2010 2010-10-17   10.0   \n",
       "\n",
       "                       Organism.Code  ...  mean_wspeed         u         v  \\\n",
       "1337658  Bleaching (% of population)  ...     5.232096  0.030541  0.005361   \n",
       "1337659  Bleaching (% of population)  ...     6.145797 -0.047292  0.002193   \n",
       "1337660  Bleaching (% of population)  ...     6.112157  0.037247  0.001953   \n",
       "1337661  Bleaching (% of population)  ...     6.153152  0.023441 -0.234490   \n",
       "1337662  Bleaching (% of population)  ...     6.168165 -0.014926 -0.402495   \n",
       "\n",
       "         mean_cur  year month    low_lat   high_lat    low_long   high_long  \n",
       "1337658  0.185999  2010    10 -27.876022 -26.876022  152.708788  153.708788  \n",
       "1337659  0.279372  2010    10 -27.876022 -26.876022  152.828788  153.828788  \n",
       "1337660  0.520450  2010    10 -27.876022 -26.876022  152.948788  153.948788  \n",
       "1337661  0.362635  2010    10 -27.876022 -26.876022  153.068788  154.068788  \n",
       "1337662  0.462817  2010    10 -27.876022 -26.876022  153.188788  154.188788  \n",
       "\n",
       "[5 rows x 73 columns]"
      ]
     },
     "execution_count": 18,
     "metadata": {},
     "output_type": "execute_result"
    }
   ],
   "source": [
    "merged.head()"
   ]
  },
  {
   "cell_type": "code",
   "execution_count": 19,
   "id": "c4b805cd-7102-4638-941b-fd3a20dfa483",
   "metadata": {},
   "outputs": [
    {
     "name": "stdout",
     "output_type": "stream",
     "text": [
      "['Pacific'] ['Australia'] [2010 2011 2012 2013 2015 2014 2016]\n"
     ]
    }
   ],
   "source": [
    "print(merged.Ocean.unique(), merged.Country.unique(), merged.year.unique())"
   ]
  },
  {
   "cell_type": "code",
   "execution_count": 20,
   "id": "95c26e23-61fa-4eb4-b094-af47af665d57",
   "metadata": {},
   "outputs": [
    {
     "name": "stdout",
     "output_type": "stream",
     "text": [
      "2010 2016\n"
     ]
    }
   ],
   "source": [
    "print(min(merged['Year']), max(merged['Year']))"
   ]
  },
  {
   "cell_type": "markdown",
   "id": "0b19f9f2-78f2-4d55-984a-d8535bd90bfe",
   "metadata": {},
   "source": [
    "## Group data\n",
    "**Each reef check data point can be matched to multiple AIMS data points (1:N relationship), ‘cause I’m only matching based on the range in the values of longitude and latitude (not matching reef check to nearest data point in AIMS, which would be 1:1). This, though would be fine for machine learning models, would pose a problem for regression models. Hence, for each of the reef points, the data from AIMS is averaged.**"
   ]
  },
  {
   "cell_type": "code",
   "execution_count": 21,
   "id": "028b69ee-b9e9-4f84-a057-1ec96b6536a5",
   "metadata": {},
   "outputs": [
    {
     "data": {
      "text/plain": [
       "(14096, 56)"
      ]
     },
     "execution_count": 21,
     "metadata": {},
     "output_type": "execute_result"
    }
   ],
   "source": [
    "# Remove redundant columns\n",
    "merged = merged.drop(['Depth', 'Organism.Code', 'Date', 'low_lat', 'high_lat', 'low_long', 'high_long', 'year', 'month', 'longitude', 'latitude', 'Errors.', 'What.errors.', 'State.Province.Island', 'City.Town', 'Region', 'Diversity'], axis=1)\n",
    "merged.shape"
   ]
  },
  {
   "cell_type": "code",
   "execution_count": 22,
   "id": "04b02d3b-f2f8-4a60-8a06-ffe739779984",
   "metadata": {},
   "outputs": [
    {
     "data": {
      "text/plain": [
       "Index(['Reef.ID', 'Reef.Name', 'Ocean', 'Country', 'Year', 'S1', 'S2', 'S3',\n",
       "       'S4', 'Average_bleaching', 'ClimSST', 'Temperature_Kelvin',\n",
       "       'Temperature_Mean', 'Temperature_Minimum', 'Temperature_Maximum',\n",
       "       'Temperature_Kelvin_Standard_Deviation', 'Windspeed', 'SSTA',\n",
       "       'SSTA_Standard_Deviation', 'SSTA_Mean', 'SSTA_Minimum', 'SSTA_Maximum',\n",
       "       'SSTA_Frequency', 'SSTA_Frequency_Standard_Deviation',\n",
       "       'SSTA_FrequencyMax', 'SSTA_FrequencyMean', 'SSTA_DHW',\n",
       "       'SSTA_DHW_Standard_Deviation', 'SSTA_DHWMax', 'SSTA_DHWMean', 'TSA',\n",
       "       'TSA_Standard_Deviation', 'TSA_Minimum', 'TSA_Maximum', 'TSA_Mean',\n",
       "       'TSA_Frequency', 'TSA_Frequency_Standard_Deviation', 'TSA_FrequencyMax',\n",
       "       'TSA_FrequencyMean', 'TSA_DHW', 'TSA_DHW_Standard_Deviation',\n",
       "       'TSA_DHWMax', 'TSA_DHWMean', 'rate_of_SST_change', 'reef_longitude',\n",
       "       'reef_latitude', 'Month', 'eta', 'salt', 'temp', 'wspeed_u', 'wspeed_v',\n",
       "       'mean_wspeed', 'u', 'v', 'mean_cur'],\n",
       "      dtype='object')"
      ]
     },
     "execution_count": 22,
     "metadata": {},
     "output_type": "execute_result"
    }
   ],
   "source": [
    "# Columns in merged data\n",
    "merged.columns"
   ]
  },
  {
   "cell_type": "code",
   "execution_count": 23,
   "id": "2ec99ee6-a65d-4f83-9587-44b6d31f071d",
   "metadata": {},
   "outputs": [],
   "source": [
    "# Group on all reef check data columns, calculate average for AIMS columns.\n",
    "# reefcheck_cols = [col for col in merged.columns]\n",
    "# remove = ['eta',\n",
    "#        'salt', 'temp', 'wspeed_u', 'wspeed_v', 'mean_wspeed', 'u', 'v',\n",
    "#        'mean_cur']\n",
    "# for each in remove:\n",
    "#     reefcheck_cols.remove(each)\n",
    "# print(reefcheck_cols, len(reefcheck_cols))\n",
    "\n",
    "# merged_grouped = merged.groupby(reefcheck_cols, dropna=False)\n",
    "\n",
    "merged_grouped = merged.groupby(['Reef.ID', 'reef_latitude', 'reef_longitude', 'Year', 'Month'], dropna=False)"
   ]
  },
  {
   "cell_type": "code",
   "execution_count": 24,
   "id": "de8f05c8-9458-4479-bc28-5883049ff2b0",
   "metadata": {},
   "outputs": [
    {
     "name": "stdout",
     "output_type": "stream",
     "text": [
      "We would have 265 usable data points.\n"
     ]
    }
   ],
   "source": [
    "print(\"We would have\", merged_grouped.ngroups, \"usable data points.\")"
   ]
  },
  {
   "cell_type": "code",
   "execution_count": 25,
   "id": "a7b847a7-421c-4a59-9b28-be3319a3c7f3",
   "metadata": {},
   "outputs": [],
   "source": [
    "# test_group = merged.groupby(['reef_latitude', 'reef_longitude', 'Year', 'Month'])\n",
    "# test_group.ngroups"
   ]
  },
  {
   "cell_type": "code",
   "execution_count": 26,
   "id": "d9f630ec-03e3-4da6-9261-029b5658b80f",
   "metadata": {},
   "outputs": [],
   "source": [
    "# test_group.size()"
   ]
  },
  {
   "cell_type": "code",
   "execution_count": 27,
   "id": "25910233-3c46-4817-a7c3-673370eedc89",
   "metadata": {},
   "outputs": [
    {
     "data": {
      "text/plain": [
       "265"
      ]
     },
     "execution_count": 27,
     "metadata": {},
     "output_type": "execute_result"
    }
   ],
   "source": [
    "merged_grouped.ngroups"
   ]
  },
  {
   "cell_type": "code",
   "execution_count": 28,
   "id": "ca6bb366-526e-4ef2-a8ae-7cbf3e7c0cec",
   "metadata": {},
   "outputs": [],
   "source": [
    "mean_merged_grouped_df = merged_grouped.mean()"
   ]
  },
  {
   "cell_type": "code",
   "execution_count": 29,
   "id": "1e0b66bc-c590-4825-a878-abcdc4733e0e",
   "metadata": {},
   "outputs": [
    {
     "data": {
      "text/plain": [
       "Index(['S1', 'S2', 'S3', 'S4', 'Average_bleaching', 'ClimSST',\n",
       "       'Temperature_Kelvin', 'Temperature_Mean', 'Temperature_Minimum',\n",
       "       'Temperature_Maximum', 'Temperature_Kelvin_Standard_Deviation',\n",
       "       'Windspeed', 'SSTA', 'SSTA_Standard_Deviation', 'SSTA_Mean',\n",
       "       'SSTA_Minimum', 'SSTA_Maximum', 'SSTA_Frequency',\n",
       "       'SSTA_Frequency_Standard_Deviation', 'SSTA_FrequencyMax',\n",
       "       'SSTA_FrequencyMean', 'SSTA_DHW', 'SSTA_DHW_Standard_Deviation',\n",
       "       'SSTA_DHWMax', 'SSTA_DHWMean', 'TSA', 'TSA_Standard_Deviation',\n",
       "       'TSA_Minimum', 'TSA_Maximum', 'TSA_Mean', 'TSA_Frequency',\n",
       "       'TSA_Frequency_Standard_Deviation', 'TSA_FrequencyMax',\n",
       "       'TSA_FrequencyMean', 'TSA_DHW', 'TSA_DHW_Standard_Deviation',\n",
       "       'TSA_DHWMax', 'TSA_DHWMean', 'rate_of_SST_change', 'eta', 'salt',\n",
       "       'temp', 'wspeed_u', 'wspeed_v', 'mean_wspeed', 'u', 'v', 'mean_cur'],\n",
       "      dtype='object')"
      ]
     },
     "execution_count": 29,
     "metadata": {},
     "output_type": "execute_result"
    }
   ],
   "source": [
    "mean_merged_grouped_df.columns"
   ]
  },
  {
   "cell_type": "code",
   "execution_count": 30,
   "id": "a0fce8b3-2792-4610-90fc-3a0e120edba5",
   "metadata": {},
   "outputs": [
    {
     "data": {
      "text/plain": [
       "Reef.ID                 reef_latitude  reef_longitude  Year  Month\n",
       "14.51.84E.16.14.50S     -16.241667     145.864000      2011  3        33.301152\n",
       "                                                       2012  6        34.810118\n",
       "                                                       2013  5        34.755774\n",
       "                                                       2015  8        35.342737\n",
       "145.33.480E.16.22.630S  -16.377167     145.558000      2013  8        35.327310\n",
       "                                                                        ...    \n",
       "153.9.28E.26.45.5S2     -26.751389     153.157778      2014  12       35.507132\n",
       "153.9.6E.26.38.6S       -26.635000     153.151667      2010  9        35.578607\n",
       "                                                       2011  6        35.419013\n",
       "                                                       2012  8        35.498078\n",
       "                                                       2013  9        35.599830\n",
       "Name: salt, Length: 265, dtype: float64"
      ]
     },
     "execution_count": 30,
     "metadata": {},
     "output_type": "execute_result"
    }
   ],
   "source": [
    "mean_merged_grouped_df['salt']"
   ]
  },
  {
   "cell_type": "code",
   "execution_count": 31,
   "id": "c846c626-5cfb-466f-b31b-91a15c3d5a63",
   "metadata": {},
   "outputs": [],
   "source": [
    "mean_merged_grouped_df.to_csv('./Data/mean_merged.csv')"
   ]
  },
  {
   "cell_type": "markdown",
   "id": "37c2a480-902d-4b0b-bdf7-23b706e3dd27",
   "metadata": {},
   "source": [
    "## Output Data to CSV\n",
    "Redundent columns ('low_lat', 'high_lat', 'low_long', 'high_long', 'year', 'month') are removed as they serve no purpose for analysis. All other columns are kept. Variable selection will be done later."
   ]
  },
  {
   "cell_type": "code",
   "execution_count": 32,
   "id": "dfc932a5-c15e-4b7f-8fcd-020d12154adf",
   "metadata": {},
   "outputs": [],
   "source": [
    "merged.to_csv('./Data/merged_reefcheck_aims.csv')"
   ]
  },
  {
   "cell_type": "code",
   "execution_count": 33,
   "id": "063665e1-5235-4d79-8083-cccaa9e4e827",
   "metadata": {},
   "outputs": [
    {
     "name": "stdout",
     "output_type": "stream",
     "text": [
      "Index(['Reef.ID', 'Reef.Name', 'Ocean', 'Country', 'Year', 'S1', 'S2', 'S3',\n",
      "       'S4', 'Average_bleaching', 'ClimSST', 'Temperature_Kelvin',\n",
      "       'Temperature_Mean', 'Temperature_Minimum', 'Temperature_Maximum',\n",
      "       'Temperature_Kelvin_Standard_Deviation', 'Windspeed', 'SSTA',\n",
      "       'SSTA_Standard_Deviation', 'SSTA_Mean', 'SSTA_Minimum', 'SSTA_Maximum',\n",
      "       'SSTA_Frequency', 'SSTA_Frequency_Standard_Deviation',\n",
      "       'SSTA_FrequencyMax', 'SSTA_FrequencyMean', 'SSTA_DHW',\n",
      "       'SSTA_DHW_Standard_Deviation', 'SSTA_DHWMax', 'SSTA_DHWMean', 'TSA',\n",
      "       'TSA_Standard_Deviation', 'TSA_Minimum', 'TSA_Maximum', 'TSA_Mean',\n",
      "       'TSA_Frequency', 'TSA_Frequency_Standard_Deviation', 'TSA_FrequencyMax',\n",
      "       'TSA_FrequencyMean', 'TSA_DHW', 'TSA_DHW_Standard_Deviation',\n",
      "       'TSA_DHWMax', 'TSA_DHWMean', 'rate_of_SST_change', 'reef_longitude',\n",
      "       'reef_latitude', 'Month', 'eta', 'salt', 'temp', 'wspeed_u', 'wspeed_v',\n",
      "       'mean_wspeed', 'u', 'v', 'mean_cur'],\n",
      "      dtype='object')\n"
     ]
    }
   ],
   "source": [
    "print(merged.columns)"
   ]
  },
  {
   "cell_type": "code",
   "execution_count": null,
   "id": "92dc1ca6-51e6-476d-a992-80e3b6b30fe0",
   "metadata": {},
   "outputs": [],
   "source": []
  }
 ],
 "metadata": {
  "kernelspec": {
   "display_name": "Python 3 (ipykernel)",
   "language": "python",
   "name": "python3"
  },
  "language_info": {
   "codemirror_mode": {
    "name": "ipython",
    "version": 3
   },
   "file_extension": ".py",
   "mimetype": "text/x-python",
   "name": "python",
   "nbconvert_exporter": "python",
   "pygments_lexer": "ipython3",
   "version": "3.9.7"
  }
 },
 "nbformat": 4,
 "nbformat_minor": 5
}
