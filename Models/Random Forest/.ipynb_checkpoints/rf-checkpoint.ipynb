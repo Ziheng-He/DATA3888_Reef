{
 "cells": [
  {
   "cell_type": "code",
   "execution_count": 13,
   "metadata": {},
   "outputs": [],
   "source": [
    "import pandas as pd\n",
    "import matplotlib.pyplot as plt\n",
    "import numpy as np\n",
    "from sklearn.model_selection import cross_val_score,train_test_split\n",
    "from sklearn.ensemble import RandomForestClassifier\n",
    "from sklearn.tree import export_graphviz\n",
    "from IPython.display import Image\n",
    "from sklearn.model_selection import GridSearchCV\n",
    "from threading import *\n",
    "import sklearn.ensemble as ensemble"
   ]
  },
  {
   "cell_type": "code",
   "execution_count": 2,
   "metadata": {},
   "outputs": [],
   "source": [
    "import pydotplus\n",
    "import time"
   ]
  },
  {
   "cell_type": "code",
   "execution_count": 3,
   "metadata": {},
   "outputs": [],
   "source": [
    "#load data\n",
    "df=pd.read_csv(\"ml_version_merged.csv\")[[\"Average_bleaching\",\n",
    "                                        \"ClimSST\",\n",
    "                                        \"Temperature_Kelvin\",\n",
    "                                        \"Temperature_Kelvin_Standard_Deviation\",\n",
    "                                        \"SSTA_Frequency\",\n",
    "                                        \"SSTA_Frequency_Standard_Deviation\",\n",
    "                                        \"TSA_Frequency_Standard_Deviation\",\n",
    "                                        \"mean_cur\"]]\n",
    "df['Average_bleaching']=df['Average_bleaching'].map(lambda x: 0 if x==0 else 1)\n",
    "X=df.drop(columns=\"Average_bleaching\")\n",
    "Y=df[\"Average_bleaching\"]"
   ]
  },
  {
   "cell_type": "code",
   "execution_count": 4,
   "metadata": {},
   "outputs": [
    {
     "name": "stdout",
     "output_type": "stream",
     "text": [
      "<class 'pandas.core.frame.DataFrame'>\n",
      "RangeIndex: 14096 entries, 0 to 14095\n",
      "Data columns (total 8 columns):\n",
      " #   Column                                 Non-Null Count  Dtype  \n",
      "---  ------                                 --------------  -----  \n",
      " 0   Average_bleaching                      14096 non-null  int64  \n",
      " 1   ClimSST                                14096 non-null  float64\n",
      " 2   Temperature_Kelvin                     14096 non-null  float64\n",
      " 3   Temperature_Kelvin_Standard_Deviation  14096 non-null  float64\n",
      " 4   SSTA_Frequency                         14096 non-null  float64\n",
      " 5   SSTA_Frequency_Standard_Deviation      14096 non-null  float64\n",
      " 6   TSA_Frequency_Standard_Deviation       14096 non-null  float64\n",
      " 7   mean_cur                               14096 non-null  float64\n",
      "dtypes: float64(7), int64(1)\n",
      "memory usage: 881.1 KB\n"
     ]
    }
   ],
   "source": [
    "df.info()"
   ]
  },
  {
   "cell_type": "code",
   "execution_count": 8,
   "metadata": {},
   "outputs": [
    {
     "name": "stdout",
     "output_type": "stream",
     "text": [
      "{'max_depth': 3, 'min_samples_leaf': 7, 'min_samples_split': 6, 'n_estimators': 22} 0.8717365445721661\n"
     ]
    }
   ],
   "source": [
    "#This is just how I use to find the params. Running is not recommended.\n",
    "#by using grid search, we can find the best params for the classifier\n",
    "params_grid={'n_estimators':np.arange(2,52,2),'max_depth':np.arange(1,11,1),\"min_samples_leaf\":np.arange(1,11,1),\"min_samples_split\":np.arange(2,11,1)}\n",
    "model=RandomForestClassifier()\n",
    "GS=GridSearchCV(model, param_grid=params_grid,cv=5,n_jobs=-1)\n",
    "GS.fit(X,Y)\n",
    "best_params=GS.best_params_\n",
    "best_score=GS.best_score_ \n",
    "print(best_params,best_score)"
   ]
  },
  {
   "cell_type": "code",
   "execution_count": 5,
   "metadata": {},
   "outputs": [
    {
     "name": "stdout",
     "output_type": "stream",
     "text": [
      "0.8797872340425532\n",
      "0.8770840723660873\n"
     ]
    }
   ],
   "source": [
    "#train the model\n",
    "#test_size=0.2 means the test part occupies 1/5 of the sample.\n",
    "train_X,test_X,train_Y,test_Y=train_test_split(X,Y,test_size=0.2,random_state=1)\n",
    "#put params into the model and evaluate.\n",
    "rf=RandomForestClassifier(n_estimators=22,max_depth=3,min_samples_leaf=7,min_samples_split=6)\n",
    "rf.fit(train_X,train_Y)\n",
    "print(rf.score(test_X,test_Y))\n",
    "print(rf.score(train_X,train_Y))"
   ]
  },
  {
   "cell_type": "code",
   "execution_count": null,
   "metadata": {},
   "outputs": [],
   "source": [
    "# Save model\n",
    "import pickle\n",
    "model_path = './random_forest.pickle'\n",
    "pickle.dump(rf, open(model_path, 'wb'))"
   ]
  },
  {
   "cell_type": "code",
   "execution_count": 10,
   "metadata": {},
   "outputs": [],
   "source": [
    "#visualize,range is related to n_estimators\n",
    "for n in range(6):\n",
    "    export_tree=rf.estimators_[n]\n",
    "    dot_tree=export_graphviz(export_tree,\n",
    "                             out_file=None,\n",
    "                             rounded=True,\n",
    "                             filled=True,\n",
    "                             feature_names=[\"ClimSST\",\n",
    "                                        \"Temperature_Kelvin\",\n",
    "                                        \"Temperature_Kelvin_Standard_Deviation\",\n",
    "                                        \"SSTA_Frequency\",\n",
    "                                        \"SSTA_Frequency_Standard_Deviation\",\n",
    "                                        \"TSA_Frequency_Standard_Deviation\",\n",
    "                                        \"mean_cur\"],\n",
    "                             class_names=[\"Bleached\",\"Not bleached\"])\n",
    "    graph=pydotplus.graph_from_dot_data(dot_tree)\n",
    "    graph.write_png(f\"tree {n} graph.png\".format(n))"
   ]
  },
  {
   "cell_type": "code",
   "execution_count": 6,
   "metadata": {},
   "outputs": [
    {
     "name": "stdout",
     "output_type": "stream",
     "text": [
      " 1) ClimSST                        0.216847\n",
      " 2) SSTA_Frequency                 0.199898\n",
      " 3) SSTA_Frequency_Standard_Deviation 0.171124\n",
      " 4) Temperature_Kelvin_Standard_Deviation 0.153445\n",
      " 5) TSA_Frequency_Standard_Deviation 0.150964\n",
      " 6) Temperature_Kelvin             0.099417\n",
      " 7) mean_cur                       0.008305\n"
     ]
    }
   ],
   "source": [
    "importances = rf.feature_importances_\n",
    "feat_labels = df.columns[1:]\n",
    "indices = np.argsort(importances)[::-1]\n",
    "for f in range(train_X.shape[1]):\n",
    "    print(\"%2d) %-*s %f\" % (f + 1, 30, feat_labels[indices[f]], importances[indices[f]]))\n"
   ]
  },
  {
   "cell_type": "code",
   "execution_count": null,
   "metadata": {},
   "outputs": [],
   "source": []
  },
  {
   "cell_type": "code",
   "execution_count": 7,
   "metadata": {},
   "outputs": [
    {
     "name": "stdout",
     "output_type": "stream",
     "text": [
      "0.007006645202636719\n"
     ]
    }
   ],
   "source": [
    "t0 = time.time()\n",
    "train_X,test_X,train_Y,test_Y=train_test_split(X,Y,train_size=0.1,random_state=1)\n",
    "test_est=rf.predict(train_X)\n",
    "t1 = time.time()\n",
    "total1 = t1-t0\n",
    "print(total1)"
   ]
  },
  {
   "cell_type": "code",
   "execution_count": 8,
   "metadata": {},
   "outputs": [
    {
     "name": "stdout",
     "output_type": "stream",
     "text": [
      "0.012010574340820312\n"
     ]
    }
   ],
   "source": [
    "t0 = time.time()\n",
    "train_X,test_X,train_Y,test_Y=train_test_split(X,Y,train_size=0.5,random_state=1)\n",
    "test_est=rf.predict(train_X)\n",
    "t1 = time.time()\n",
    "total2 = t1-t0\n",
    "print(total2)"
   ]
  },
  {
   "cell_type": "code",
   "execution_count": 9,
   "metadata": {},
   "outputs": [
    {
     "name": "stdout",
     "output_type": "stream",
     "text": [
      "0.014013051986694336\n"
     ]
    }
   ],
   "source": [
    "t0 = time.time()\n",
    "train_X,test_X,train_Y,test_Y=train_test_split(X,Y,train_size=0.7,random_state=1)\n",
    "test_est=rf.predict(train_X)\n",
    "t1 = time.time()\n",
    "total3 = t1-t0\n",
    "print(total3)"
   ]
  },
  {
   "cell_type": "code",
   "execution_count": 35,
   "metadata": {},
   "outputs": [
    {
     "data": {
      "image/png": "[encoded data removed]",
      "text/plain": [
       "<Figure size 432x288 with 1 Axes>"
      ]
     },
     "metadata": {
      "needs_background": "light"
     },
     "output_type": "display_data"
    }
   ],
   "source": [
    "li_size=[0.1,0.5,0.7]\n",
    "li_t=[total1,total2,total3]\n",
    "line_rf=plt.plot(li_size,li_t,'r--',label='type1')\n",
    "plt.title('scalability of models')\n",
    "plt.xlabel('train_size')\n",
    "plt.ylabel('time diff')\n",
    "plt.legend()\n",
    "plt.show()"
   ]
  },
  {
   "cell_type": "code",
   "execution_count": 32,
   "metadata": {},
   "outputs": [
    {
     "name": "stdout",
     "output_type": "stream",
     "text": [
      "[0.85496454 0.75700603 0.86626463 0.88790351 0.87619723]\n",
      "The standard deviation of accuracies is 0.0470069930621323\n"
     ]
    }
   ],
   "source": [
    "scores = cross_val_score(rf,X,Y,cv=5, scoring='accuracy')\n",
    "print(scores)\n",
    "\n",
    "acc_std = np.std(scores)\n",
    "print(\"The standard deviation of accuracies is \"+str(acc_std))"
   ]
  },
  {
   "cell_type": "code",
   "execution_count": 30,
   "metadata": {},
   "outputs": [
    {
     "data": {
      "image/png": "[encoded data removed]",
      "text/plain": [
       "<Figure size 432x288 with 1 Axes>"
      ]
     },
     "metadata": {
      "needs_background": "light"
     },
     "output_type": "display_data"
    }
   ],
   "source": [
    "plt.boxplot(scores)\n",
    "plt.grid(linestyle=\"--\", alpha=0.3)\n",
    "plt.xlabel(\"cv5\")\n",
    "plt.ylabel(\"accuracies\")\n",
    "plt.title(\"the boxplot of cv5 accuracies\")\n",
    "plt.show()"
   ]
  },
  {
   "cell_type": "code",
   "execution_count": null,
   "metadata": {},
   "outputs": [],
   "source": []
  }
 ],
 "metadata": {
  "kernelspec": {
   "display_name": "Python 3 (ipykernel)",
   "language": "python",
   "name": "python3"
  },
  "language_info": {
   "codemirror_mode": {
    "name": "ipython",
    "version": 3
   },
   "file_extension": ".py",
   "mimetype": "text/x-python",
   "name": "python",
   "nbconvert_exporter": "python",
   "pygments_lexer": "ipython3",
   "version": "3.9.7"
  }
 },
 "nbformat": 4,
 "nbformat_minor": 4
}
