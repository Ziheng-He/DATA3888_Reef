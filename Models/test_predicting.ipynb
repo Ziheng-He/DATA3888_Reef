{
 "cells": [
  {
   "cell_type": "code",
   "execution_count": 1,
   "metadata": {},
   "outputs": [],
   "source": [
    "#https://stackoverflow.com/questions/46160897/how-to-format-a-python-script-that-uses-rpy2-in-order-to-build-a-model-with-an-r\n",
    "import pandas as pd\n",
    "import rpy2.robjects as r\n",
    "import rpy2.robjects.packages as rpackages\n",
    "from rpy2.robjects.vectors import StrVector\n",
    "from rpy2.robjects import r, pandas2ri"
   ]
  },
  {
   "cell_type": "code",
   "execution_count": 2,
   "metadata": {},
   "outputs": [],
   "source": [
    "pandas2ri.activate()\n",
    "caret = rpackages.importr('caret')\n",
    "base = rpackages.importr('base')"
   ]
  },
  {
   "cell_type": "code",
   "execution_count": 3,
   "metadata": {},
   "outputs": [],
   "source": [
    "# Read data make necessary change for logistic model\n",
    "data = pd.read_csv(\"../Data/lr_version_merged_mean.csv\")\n",
    "data[\"Average_bleaching\"] = [\"yes\" if x['Average_bleaching'] >0 else \"no\" for idx, x in data.iterrows()]\n",
    "# data[\"Average_bleaching\"] = [1 if x['Average_bleaching'] >0 else 0 for idx, x in data.iterrows()]\n",
    "# data[\"Average_bleaching\"] = data[\"Average_bleaching\"].astype(\"category\")"
   ]
  },
  {
   "cell_type": "code",
   "execution_count": 4,
   "metadata": {},
   "outputs": [
    {
     "data": {
      "text/html": [
       "<div>\n",
       "<style scoped>\n",
       "    .dataframe tbody tr th:only-of-type {\n",
       "        vertical-align: middle;\n",
       "    }\n",
       "\n",
       "    .dataframe tbody tr th {\n",
       "        vertical-align: top;\n",
       "    }\n",
       "\n",
       "    .dataframe thead th {\n",
       "        text-align: right;\n",
       "    }\n",
       "</style>\n",
       "<table border=\"1\" class=\"dataframe\">\n",
       "  <thead>\n",
       "    <tr style=\"text-align: right;\">\n",
       "      <th></th>\n",
       "      <th>index</th>\n",
       "      <th>Year</th>\n",
       "      <th>Month</th>\n",
       "      <th>reef_longitude</th>\n",
       "      <th>reef_latitude</th>\n",
       "      <th>S1</th>\n",
       "      <th>S2</th>\n",
       "      <th>S3</th>\n",
       "      <th>S4</th>\n",
       "      <th>Average_bleaching</th>\n",
       "      <th>...</th>\n",
       "      <th>rate_of_SST_change</th>\n",
       "      <th>eta</th>\n",
       "      <th>salt</th>\n",
       "      <th>temp</th>\n",
       "      <th>wspeed_u</th>\n",
       "      <th>wspeed_v</th>\n",
       "      <th>mean_wspeed</th>\n",
       "      <th>u</th>\n",
       "      <th>v</th>\n",
       "      <th>mean_cur</th>\n",
       "    </tr>\n",
       "  </thead>\n",
       "  <tbody>\n",
       "    <tr>\n",
       "      <th>0</th>\n",
       "      <td>5097</td>\n",
       "      <td>2010</td>\n",
       "      <td>10</td>\n",
       "      <td>153.491389</td>\n",
       "      <td>-26.968611</td>\n",
       "      <td>0.0</td>\n",
       "      <td>0.0</td>\n",
       "      <td>0.0</td>\n",
       "      <td>0.0</td>\n",
       "      <td>no</td>\n",
       "      <td>...</td>\n",
       "      <td>0.038889</td>\n",
       "      <td>-0.330480</td>\n",
       "      <td>35.194298</td>\n",
       "      <td>23.267048</td>\n",
       "      <td>-3.294642</td>\n",
       "      <td>1.381906</td>\n",
       "      <td>6.046273</td>\n",
       "      <td>-0.044380</td>\n",
       "      <td>-0.259013</td>\n",
       "      <td>0.413241</td>\n",
       "    </tr>\n",
       "    <tr>\n",
       "      <th>1</th>\n",
       "      <td>5102</td>\n",
       "      <td>2010</td>\n",
       "      <td>10</td>\n",
       "      <td>153.483333</td>\n",
       "      <td>-26.968333</td>\n",
       "      <td>0.0</td>\n",
       "      <td>0.0</td>\n",
       "      <td>0.0</td>\n",
       "      <td>0.0</td>\n",
       "      <td>no</td>\n",
       "      <td>...</td>\n",
       "      <td>0.038889</td>\n",
       "      <td>-0.330480</td>\n",
       "      <td>35.194298</td>\n",
       "      <td>23.267048</td>\n",
       "      <td>-3.294642</td>\n",
       "      <td>1.381906</td>\n",
       "      <td>6.046273</td>\n",
       "      <td>-0.044380</td>\n",
       "      <td>-0.259013</td>\n",
       "      <td>0.413241</td>\n",
       "    </tr>\n",
       "    <tr>\n",
       "      <th>2</th>\n",
       "      <td>5106</td>\n",
       "      <td>2010</td>\n",
       "      <td>11</td>\n",
       "      <td>153.385556</td>\n",
       "      <td>-27.529167</td>\n",
       "      <td>2.0</td>\n",
       "      <td>2.0</td>\n",
       "      <td>3.0</td>\n",
       "      <td>1.0</td>\n",
       "      <td>yes</td>\n",
       "      <td>...</td>\n",
       "      <td>0.041288</td>\n",
       "      <td>-0.298065</td>\n",
       "      <td>35.172879</td>\n",
       "      <td>24.257499</td>\n",
       "      <td>-3.813082</td>\n",
       "      <td>-0.412349</td>\n",
       "      <td>6.041818</td>\n",
       "      <td>0.005312</td>\n",
       "      <td>-0.349575</td>\n",
       "      <td>0.469270</td>\n",
       "    </tr>\n",
       "    <tr>\n",
       "      <th>3</th>\n",
       "      <td>5132</td>\n",
       "      <td>2010</td>\n",
       "      <td>9</td>\n",
       "      <td>153.151667</td>\n",
       "      <td>-26.635000</td>\n",
       "      <td>0.0</td>\n",
       "      <td>0.0</td>\n",
       "      <td>0.0</td>\n",
       "      <td>0.0</td>\n",
       "      <td>no</td>\n",
       "      <td>...</td>\n",
       "      <td>0.038889</td>\n",
       "      <td>-0.228805</td>\n",
       "      <td>35.578607</td>\n",
       "      <td>22.283628</td>\n",
       "      <td>-0.172312</td>\n",
       "      <td>-0.509025</td>\n",
       "      <td>5.732539</td>\n",
       "      <td>0.020565</td>\n",
       "      <td>-0.063561</td>\n",
       "      <td>0.229096</td>\n",
       "    </tr>\n",
       "    <tr>\n",
       "      <th>4</th>\n",
       "      <td>5134</td>\n",
       "      <td>2010</td>\n",
       "      <td>11</td>\n",
       "      <td>153.103056</td>\n",
       "      <td>-26.359722</td>\n",
       "      <td>0.0</td>\n",
       "      <td>0.0</td>\n",
       "      <td>0.0</td>\n",
       "      <td>0.0</td>\n",
       "      <td>no</td>\n",
       "      <td>...</td>\n",
       "      <td>0.038889</td>\n",
       "      <td>-0.287245</td>\n",
       "      <td>35.449339</td>\n",
       "      <td>23.996596</td>\n",
       "      <td>-4.567952</td>\n",
       "      <td>0.244954</td>\n",
       "      <td>6.144467</td>\n",
       "      <td>-0.028463</td>\n",
       "      <td>-0.151352</td>\n",
       "      <td>0.250832</td>\n",
       "    </tr>\n",
       "  </tbody>\n",
       "</table>\n",
       "<p>5 rows × 53 columns</p>\n",
       "</div>"
      ],
      "text/plain": [
       "   index  Year  Month  reef_longitude  reef_latitude   S1   S2   S3   S4  \\\n",
       "0   5097  2010     10      153.491389     -26.968611  0.0  0.0  0.0  0.0   \n",
       "1   5102  2010     10      153.483333     -26.968333  0.0  0.0  0.0  0.0   \n",
       "2   5106  2010     11      153.385556     -27.529167  2.0  2.0  3.0  1.0   \n",
       "3   5132  2010      9      153.151667     -26.635000  0.0  0.0  0.0  0.0   \n",
       "4   5134  2010     11      153.103056     -26.359722  0.0  0.0  0.0  0.0   \n",
       "\n",
       "  Average_bleaching  ...  rate_of_SST_change       eta       salt       temp  \\\n",
       "0                no  ...            0.038889 -0.330480  35.194298  23.267048   \n",
       "1                no  ...            0.038889 -0.330480  35.194298  23.267048   \n",
       "2               yes  ...            0.041288 -0.298065  35.172879  24.257499   \n",
       "3                no  ...            0.038889 -0.228805  35.578607  22.283628   \n",
       "4                no  ...            0.038889 -0.287245  35.449339  23.996596   \n",
       "\n",
       "   wspeed_u  wspeed_v  mean_wspeed         u         v  mean_cur  \n",
       "0 -3.294642  1.381906     6.046273 -0.044380 -0.259013  0.413241  \n",
       "1 -3.294642  1.381906     6.046273 -0.044380 -0.259013  0.413241  \n",
       "2 -3.813082 -0.412349     6.041818  0.005312 -0.349575  0.469270  \n",
       "3 -0.172312 -0.509025     5.732539  0.020565 -0.063561  0.229096  \n",
       "4 -4.567952  0.244954     6.144467 -0.028463 -0.151352  0.250832  \n",
       "\n",
       "[5 rows x 53 columns]"
      ]
     },
     "execution_count": 4,
     "metadata": {},
     "output_type": "execute_result"
    }
   ],
   "source": [
    "data.head()"
   ]
  },
  {
   "cell_type": "code",
   "execution_count": 5,
   "metadata": {},
   "outputs": [],
   "source": [
    "# Convert pandas dataframe to r dataframe\n",
    "r_dataframe = pandas2ri.py2rpy(data)"
   ]
  },
  {
   "cell_type": "code",
   "execution_count": 6,
   "metadata": {},
   "outputs": [],
   "source": [
    "# Turn average_bleaching column to factor\n",
    "# import rpy2\n",
    "col_index = list(r_dataframe.colnames).index('Average_bleaching')\n",
    "# col_factor = rpy2.robjects.vectors.FactorVector(r_dataframe.rx2('Average_bleaching'))\n",
    "# r_dataframe[col_index] = col_factor"
   ]
  },
  {
   "cell_type": "code",
   "execution_count": 7,
   "metadata": {},
   "outputs": [],
   "source": [
    "r_dataframe[col_index] = base.as_character(r_dataframe[col_index])"
   ]
  },
  {
   "cell_type": "code",
   "execution_count": 8,
   "metadata": {},
   "outputs": [
    {
     "name": "stdout",
     "output_type": "stream",
     "text": [
      "  [1] \"no\"  \"no\"  \"yes\" \"no\"  \"no\"  \"yes\" \"yes\" \"no\"  \"yes\" \"yes\" \"no\"  \"no\" \n",
      " [13] \"yes\" \"yes\" \"yes\" \"yes\" \"yes\" \"yes\" \"yes\" \"no\"  \"yes\" \"yes\" \"yes\" \"no\" \n",
      " [25] \"yes\" \"yes\" \"yes\" \"yes\" \"yes\" \"no\"  \"yes\" \"no\"  \"yes\" \"yes\" \"yes\" \"no\" \n",
      " [37] \"yes\" \"yes\" \"no\"  \"yes\" \"yes\" \"yes\" \"yes\" \"yes\" \"no\"  \"no\"  \"yes\" \"no\" \n",
      " [49] \"no\"  \"no\"  \"yes\" \"yes\" \"yes\" \"yes\" \"yes\" \"yes\" \"yes\" \"yes\" \"no\"  \"no\" \n",
      " [61] \"yes\" \"yes\" \"no\"  \"yes\" \"yes\" \"yes\" \"yes\" \"no\"  \"yes\" \"yes\" \"yes\" \"yes\"\n",
      " [73] \"no\"  \"no\"  \"yes\" \"no\"  \"no\"  \"yes\" \"yes\" \"yes\" \"yes\" \"yes\" \"yes\" \"no\" \n",
      " [85] \"yes\" \"yes\" \"yes\" \"yes\" \"yes\" \"yes\" \"yes\" \"yes\" \"yes\" \"yes\" \"yes\" \"yes\"\n",
      " [97] \"yes\" \"yes\" \"yes\" \"yes\" \"yes\" \"yes\" \"yes\" \"yes\" \"no\"  \"yes\" \"yes\" \"yes\"\n",
      "[109] \"no\"  \"yes\" \"yes\" \"no\"  \"yes\" \"yes\" \"yes\" \"yes\" \"yes\" \"yes\" \"yes\" \"yes\"\n",
      "[121] \"no\"  \"yes\" \"yes\" \"yes\" \"yes\" \"yes\" \"no\"  \"yes\" \"yes\" \"yes\" \"yes\" \"yes\"\n",
      "[133] \"yes\" \"yes\" \"yes\" \"no\"  \"yes\" \"yes\" \"yes\" \"yes\" \"yes\" \"yes\" \"yes\" \"yes\"\n",
      "[145] \"yes\" \"yes\" \"yes\" \"yes\" \"yes\" \"yes\" \"yes\" \"yes\" \"yes\" \"yes\" \"yes\" \"yes\"\n",
      "[157] \"yes\" \"yes\" \"yes\" \"yes\" \"yes\" \"yes\" \"yes\" \"yes\" \"yes\" \"yes\" \"yes\" \"yes\"\n",
      "[169] \"yes\" \"yes\" \"yes\" \"yes\" \"yes\" \"no\"  \"no\"  \"yes\" \"yes\" \"yes\" \"yes\" \"yes\"\n",
      "[181] \"yes\" \"yes\" \"yes\" \"yes\" \"yes\" \"yes\" \"yes\" \"yes\" \"yes\" \"yes\" \"yes\" \"yes\"\n",
      "[193] \"yes\" \"yes\" \"yes\" \"yes\" \"yes\" \"yes\" \"yes\" \"yes\" \"no\"  \"yes\" \"yes\" \"yes\"\n",
      "[205] \"yes\" \"no\"  \"yes\" \"yes\" \"no\"  \"yes\" \"yes\" \"yes\" \"yes\" \"yes\" \"yes\" \"yes\"\n",
      "[217] \"yes\" \"yes\" \"yes\" \"yes\" \"yes\" \"yes\" \"yes\" \"yes\" \"yes\" \"yes\" \"yes\" \"yes\"\n",
      "[229] \"yes\" \"yes\" \"yes\" \"yes\" \"yes\" \"yes\" \"no\"  \"yes\" \"yes\" \"no\"  \"yes\" \"yes\"\n",
      "[241] \"yes\" \"yes\" \"yes\" \"yes\" \"yes\" \"yes\" \"yes\" \"yes\" \"yes\" \"yes\" \"yes\" \"yes\"\n",
      "[253] \"yes\" \"no\"  \"yes\" \"yes\" \"yes\" \"yes\" \"yes\" \"yes\" \"yes\" \"yes\" \"yes\" \"no\" \n",
      "[265] \"yes\" \"yes\" \"no\"  \"no\"  \"yes\" \"yes\" \"no\" \n",
      "\n"
     ]
    }
   ],
   "source": [
    "print(r_dataframe[col_index])"
   ]
  },
  {
   "cell_type": "code",
   "execution_count": 9,
   "metadata": {},
   "outputs": [],
   "source": [
    "# Specify predictor columns\n",
    "predictors = [\"ClimSST\", \"Temperature_Kelvin\", \"Temperature_Kelvin_Standard_Deviation\", \"SSTA_Frequency\", \"SSTA_Frequency_Standard_Deviation\" ,\"TSA_Frequency_Standard_Deviation\" ,\"mean_cur\"]\n",
    "predictors_vector = StrVector(predictors)"
   ]
  },
  {
   "cell_type": "code",
   "execution_count": 10,
   "metadata": {},
   "outputs": [],
   "source": [
    "# Specify outcome column\n",
    "outcome = [\"Average_bleaching\"]\n",
    "outcome_vector = StrVector(outcome)"
   ]
  },
  {
   "cell_type": "code",
   "execution_count": 11,
   "metadata": {},
   "outputs": [],
   "source": [
    "# Extract columns of predictors and outcome from dataframe\n",
    "columns_predictors = r_dataframe.rx(True, predictors_vector)\n",
    "columns_response= r_dataframe.rx(True, outcome_vector)"
   ]
  },
  {
   "cell_type": "code",
   "execution_count": 12,
   "metadata": {},
   "outputs": [
    {
     "name": "stdout",
     "output_type": "stream",
     "text": [
      "$finalModel\n",
      "\n",
      "Call:  NULL\n",
      "\n",
      "Coefficients:\n",
      "                          (Intercept)                                ClimSST  \n",
      "                            -85.70286                                0.05948  \n",
      "                   Temperature_Kelvin  Temperature_Kelvin_Standard_Deviation  \n",
      "                              0.21725                                1.31316  \n",
      "                       SSTA_Frequency      SSTA_Frequency_Standard_Deviation  \n",
      "                             -0.09264                                0.62745  \n",
      "     TSA_Frequency_Standard_Deviation                               mean_cur  \n",
      "                             -0.03850                                0.25282  \n",
      "\n",
      "Degrees of Freedom: 270 Total (i.e. Null);  263 Residual\n",
      "Null Deviance:\t    243.7 \n",
      "Residual Deviance: 211.6 \tAIC: 227.6\n",
      "\n",
      "\n"
     ]
    }
   ],
   "source": [
    "# Train and predict\n",
    "cvCtrl = caret.trainControl(method = \"cv\", number= 10, savePredictions=True)\n",
    "\n",
    "model_R= caret.train(columns_predictors, columns_response, method = \"glm\", trControl = cvCtrl,family=\"binomial\")\n",
    "\n",
    "print(model_R.rx('finalModel'))"
   ]
  },
  {
   "cell_type": "code",
   "execution_count": 13,
   "metadata": {},
   "outputs": [
    {
     "name": "stdout",
     "output_type": "stream",
     "text": [
      "$resample\n",
      "    Accuracy       Kappa Resample\n",
      "1  0.9259259  0.63013699   Fold01\n",
      "2  0.8214286  0.20454545   Fold02\n",
      "3  0.7407407 -0.11834320   Fold03\n",
      "4  0.7857143 -0.06329114   Fold04\n",
      "5  0.8076923  0.17721519   Fold05\n",
      "6  0.8518519  0.00000000   Fold06\n",
      "7  0.8571429  0.29113924   Fold07\n",
      "8  0.8461538  0.25714286   Fold08\n",
      "9  0.8518519  0.00000000   Fold09\n",
      "10 0.8518519  0.28947368   Fold10\n",
      "\n",
      "\n"
     ]
    }
   ],
   "source": [
    "print(model_R.rx(\"resample\"))"
   ]
  },
  {
   "cell_type": "code",
   "execution_count": 25,
   "metadata": {},
   "outputs": [],
   "source": [
    "test_df = pd.DataFrame([[297.28, 295.6, 2.15, 12, 3.34, 1.1, 0.4132407235172410], #row 1 no 1\n",
    "                        [298.94, 295.8, 2.77, 4.0, 6.840000000000000, 2.45, 0.4692697997619050],#row 3 yes 2\n",
    "                        [298.59, 296.63, 2.67, 6.0, 7.21, 2.58, 0.4692697997619050] #row 6 yes 2\n",
    "                       ]\n",
    "                       ,\n",
    "                       columns=[\"ClimSST\", \"Temperature_Kelvin\", \"Temperature_Kelvin_Standard_Deviation\", \"SSTA_Frequency\", \"SSTA_Frequency_Standard_Deviation\" ,\"TSA_Frequency_Standard_Deviation\" ,\"mean_cur\"])\n",
    "test_r = pandas2ri.py2rpy(test_df)\n",
    "pred = r.predict(model_R, test_r, type=\"prob\", probability=True)"
   ]
  },
  {
   "cell_type": "code",
   "execution_count": 26,
   "metadata": {},
   "outputs": [
    {
     "name": "stdout",
     "output_type": "stream",
     "text": [
      "  ClimSST Temperature_Kelvin Temperature_Kelvin_Standard_Deviation\n",
      "0  297.28             295.60                                  2.15\n",
      "1  298.94             295.80                                  2.77\n",
      "2  298.59             296.63                                  2.67\n",
      "  SSTA_Frequency SSTA_Frequency_Standard_Deviation\n",
      "0             12                              3.34\n",
      "1              4                              6.84\n",
      "2              6                              7.21\n",
      "  TSA_Frequency_Standard_Deviation  mean_cur\n",
      "0                             1.10 0.4132407\n",
      "1                             2.45 0.4692698\n",
      "2                             2.58 0.4692698\n",
      "\n"
     ]
    }
   ],
   "source": [
    "print(test_r)"
   ]
  },
  {
   "cell_type": "code",
   "execution_count": 27,
   "metadata": {},
   "outputs": [
    {
     "name": "stdout",
     "output_type": "stream",
     "text": [
      "          no       yes\n",
      "0 0.48277556 0.5172244\n",
      "1 0.01936671 0.9806333\n",
      "2 0.01807990 0.9819201\n",
      "\n"
     ]
    }
   ],
   "source": [
    "print(pred)"
   ]
  },
  {
   "cell_type": "code",
   "execution_count": 28,
   "metadata": {},
   "outputs": [
    {
     "name": "stdout",
     "output_type": "stream",
     "text": [
      "[0.48277556 0.01936671 0.0180799 ]\n"
     ]
    }
   ],
   "source": [
    "print(pred[0])"
   ]
  },
  {
   "cell_type": "code",
   "execution_count": null,
   "metadata": {},
   "outputs": [],
   "source": []
  }
 ],
 "metadata": {
  "kernelspec": {
   "display_name": "Python 3",
   "language": "python",
   "name": "python3"
  },
  "language_info": {
   "codemirror_mode": {
    "name": "ipython",
    "version": 3
   },
   "file_extension": ".py",
   "mimetype": "text/x-python",
   "name": "python",
   "nbconvert_exporter": "python",
   "pygments_lexer": "ipython3",
   "version": "3.8.0"
  }
 },
 "nbformat": 4,
 "nbformat_minor": 4
}
